{
 "cells": [
  {
   "cell_type": "code",
   "execution_count": 1,
   "metadata": {},
   "outputs": [],
   "source": [
    "import os\n",
    "import gc\n",
    "import cv2\n",
    "import torch\n",
    "import numpy as np\n",
    "from tqdm import tqdm\n",
    "import matplotlib.pyplot as plt\n",
    "\n",
    "from ultralytics.models import YOLO\n",
    "from ultralytics.models.yolo.detect.train import DetectionTrainer\n",
    "from ultralytics.cfg import cfg2dict, get_cfg\n",
    "from ultralytics.data.build import build_dataloader, build_yolo_dataset\n",
    "\n",
    "from utils.tools import (boxes_to_coor, compute_normalized_cross_correlation,\n",
    "                         delete_min_object_iter, delete_temp_img,\n",
    "                         save_loss, save_visualize_image)"
   ]
  },
  {
   "cell_type": "markdown",
   "metadata": {},
   "source": [
    "# Utils"
   ]
  },
  {
   "cell_type": "code",
   "execution_count": 2,
   "metadata": {},
   "outputs": [],
   "source": [
    "from ultralytics.utils.instance import  Instances \n",
    "\n",
    "def cut_images(shape, new_shape = [640,640]):\n",
    "    x,y,w,h = 0.5,0.5,1,1\n",
    "    gt = Instances(np.array([x, y, w, h]),bbox_format= 'xywh')\n",
    "    r = min(new_shape[0] / shape[0], new_shape[1] / shape[1])\n",
    "    #r = min(r, 1.0)\n",
    "    new_unpad = int(round(shape[1] * r)), int(round(shape[0] * r))\n",
    "    dw, dh = new_shape[1] - new_unpad[0], new_shape[0] - new_unpad[1]  # wh padding\n",
    "    dw /= 2  # divide padding into 2 sides\n",
    "    dh /= 2\n",
    "    ratio = r, r  # width, height ratios\n",
    "    gt.convert_bbox(format='xyxy')\n",
    "    gt.denormalize(*shape[:2][::-1])\n",
    "    gt.scale(*ratio)\n",
    "    gt.add_padding(dw, dh)\n",
    "    bbox_after = gt._bboxes.bboxes.reshape(-1).astype(int)\n",
    "    return bbox_after"
   ]
  },
  {
   "cell_type": "markdown",
   "metadata": {},
   "source": [
    "# Code"
   ]
  },
  {
   "cell_type": "code",
   "execution_count": 3,
   "metadata": {},
   "outputs": [],
   "source": [
    "yaml_path = \"/home/son/Desktop/Research/ultralytics/ultralytics/cfg/my_config.yaml\"\n",
    "data_info_path = \"/home/son/Desktop/Research/ultralytics/ultralytics/cfg/datasets/custom_VOC.yaml\"\n",
    "img_path = \"/home/son/Desktop/Research/datasets/VOC/images/val2012/\""
   ]
  },
  {
   "cell_type": "code",
   "execution_count": 4,
   "metadata": {},
   "outputs": [
    {
     "name": "stderr",
     "output_type": "stream",
     "text": [
      "\u001b[34m\u001b[1mtrain: \u001b[0mScanning /home/son/Desktop/Research/datasets/VOC/labels/val2012.cache... 5823 images, 0 backgrounds, 0 corrupt: 100%|██████████| 5823/5823 [00:00<?, ?it/s]"
     ]
    },
    {
     "name": "stderr",
     "output_type": "stream",
     "text": [
      "\n",
      "Ultralytics YOLOv8.0.207 🚀 Python-3.10.13 torch-2.0.1+cu117 CUDA:0 (NVIDIA GeForce RTX 3050 Laptop GPU, 3902MiB)\n",
      "\u001b[34m\u001b[1mengine/trainer: \u001b[0mtask=detect, mode=predict, model=yolov8n.pt, data=ultralytics/cfg/datasets/custom_VOC.yaml, epochs=1, patience=10, batch=1, imgsz=640, save=True, save_period=100, cache=False, device=0, workers=8, project=None, name=predict9, augment=False, exist_ok=False, pretrained=False, optimizer=SGD, verbose=False, seed=0, deterministic=True, single_cls=False, image_weights=False, rect=True, fraction=1.0, cos_lr=False, close_mosaic=10, resume=False, min_memory=False, overlap_mask=True, mask_ratio=4, dropout=0.0, YOLO_VERBOSE=False, val=True, split=val, save_json=False, save_hybrid=False, conf=0.25, iou=0.7, max_det=300, half=False, dnn=False, plots=True, source=None, show=False, save_txt=True, save_conf=False, save_crop=False, hide_labels=True, hide_conf=True, vid_stride=1, line_thickness=3, visualize=False, agnostic_nms=False, classes=None, retina_masks=False, boxes=True, format=torchscript, keras=False, optimize=False, int8=False, dynamic=False, simplify=False, opset=None, workspace=4, nms=False, lr0=0.01, lrf=0.01, momentum=0.937, weight_decay=0.0005, warmup_epochs=3.0, warmup_momentum=0.8, warmup_bias_lr=0.1, box=7.5, cls=0.5, dfl=1.5, fl_gamma=0.0, label_smoothing=0.0, nbs=64, hsv_h=0.015, hsv_s=0.7, hsv_v=0.4, degrees=0.0, translate=0.1, scale=0.5, shear=0.0, perspective=0.0, flipud=0.0, fliplr=0.5, mosaic=1.0, mixup=0.0, copy_paste=0.0, cfg=None, v5loader=False, tracker=botsort.yaml, save_dir=/home/son/Desktop/Research/ultralytics/runs/detect/predict9\n",
      "Overriding model.yaml nc=80 with nc=20\n",
      "\n",
      "                   from  n    params  module                                       arguments                     \n",
      "  0                  -1  1       464  ultralytics.nn.modules.conv.Conv             [3, 16, 3, 2]                 \n",
      "  1                  -1  1      4672  ultralytics.nn.modules.conv.Conv             [16, 32, 3, 2]                \n",
      "  2                  -1  1      7360  ultralytics.nn.modules.block.C2f             [32, 32, 1, True]             \n",
      "  3                  -1  1     18560  ultralytics.nn.modules.conv.Conv             [32, 64, 3, 2]                \n",
      "  4                  -1  2     49664  ultralytics.nn.modules.block.C2f             [64, 64, 2, True]             \n",
      "  5                  -1  1     73984  ultralytics.nn.modules.conv.Conv             [64, 128, 3, 2]               \n",
      "  6                  -1  2    197632  ultralytics.nn.modules.block.C2f             [128, 128, 2, True]           \n",
      "  7                  -1  1    295424  ultralytics.nn.modules.conv.Conv             [128, 256, 3, 2]              \n",
      "  8                  -1  1    460288  ultralytics.nn.modules.block.C2f             [256, 256, 1, True]           \n",
      "  9                  -1  1    164608  ultralytics.nn.modules.block.SPPF            [256, 256, 5]                 \n",
      " 10                  -1  1         0  torch.nn.modules.upsampling.Upsample         [None, 2, 'nearest']          \n",
      " 11             [-1, 6]  1         0  ultralytics.nn.modules.conv.Concat           [1]                           \n",
      " 12                  -1  1    148224  ultralytics.nn.modules.block.C2f             [384, 128, 1]                 \n",
      " 13                  -1  1         0  torch.nn.modules.upsampling.Upsample         [None, 2, 'nearest']          \n",
      " 14             [-1, 4]  1         0  ultralytics.nn.modules.conv.Concat           [1]                           \n",
      " 15                  -1  1     37248  ultralytics.nn.modules.block.C2f             [192, 64, 1]                  \n",
      " 16                  -1  1     36992  ultralytics.nn.modules.conv.Conv             [64, 64, 3, 2]                \n",
      " 17            [-1, 12]  1         0  ultralytics.nn.modules.conv.Concat           [1]                           \n",
      " 18                  -1  1    123648  ultralytics.nn.modules.block.C2f             [192, 128, 1]                 \n",
      " 19                  -1  1    147712  ultralytics.nn.modules.conv.Conv             [128, 128, 3, 2]              \n",
      " 20             [-1, 9]  1         0  ultralytics.nn.modules.conv.Concat           [1]                           \n",
      " 21                  -1  1    493056  ultralytics.nn.modules.block.C2f             [384, 256, 1]                 \n",
      " 22        [15, 18, 21]  1    755212  ultralytics.nn.modules.head.Detect           [20, [64, 128, 256]]          \n",
      "Model summary: 225 layers, 3014748 parameters, 3014732 gradients, 8.2 GFLOPs\n",
      "\n",
      "Transferred 319/355 items from pretrained weights\n"
     ]
    },
    {
     "data": {
      "text/plain": [
       "DetectionModel(\n",
       "  (model): Sequential(\n",
       "    (0): Conv(\n",
       "      (conv): Conv2d(3, 16, kernel_size=(3, 3), stride=(2, 2), padding=(1, 1), bias=False)\n",
       "      (bn): BatchNorm2d(16, eps=0.001, momentum=0.03, affine=True, track_running_stats=True)\n",
       "      (act): SiLU(inplace=True)\n",
       "    )\n",
       "    (1): Conv(\n",
       "      (conv): Conv2d(16, 32, kernel_size=(3, 3), stride=(2, 2), padding=(1, 1), bias=False)\n",
       "      (bn): BatchNorm2d(32, eps=0.001, momentum=0.03, affine=True, track_running_stats=True)\n",
       "      (act): SiLU(inplace=True)\n",
       "    )\n",
       "    (2): C2f(\n",
       "      (cv1): Conv(\n",
       "        (conv): Conv2d(32, 32, kernel_size=(1, 1), stride=(1, 1), bias=False)\n",
       "        (bn): BatchNorm2d(32, eps=0.001, momentum=0.03, affine=True, track_running_stats=True)\n",
       "        (act): SiLU(inplace=True)\n",
       "      )\n",
       "      (cv2): Conv(\n",
       "        (conv): Conv2d(48, 32, kernel_size=(1, 1), stride=(1, 1), bias=False)\n",
       "        (bn): BatchNorm2d(32, eps=0.001, momentum=0.03, affine=True, track_running_stats=True)\n",
       "        (act): SiLU(inplace=True)\n",
       "      )\n",
       "      (m): ModuleList(\n",
       "        (0): Bottleneck(\n",
       "          (cv1): Conv(\n",
       "            (conv): Conv2d(16, 16, kernel_size=(3, 3), stride=(1, 1), padding=(1, 1), bias=False)\n",
       "            (bn): BatchNorm2d(16, eps=0.001, momentum=0.03, affine=True, track_running_stats=True)\n",
       "            (act): SiLU(inplace=True)\n",
       "          )\n",
       "          (cv2): Conv(\n",
       "            (conv): Conv2d(16, 16, kernel_size=(3, 3), stride=(1, 1), padding=(1, 1), bias=False)\n",
       "            (bn): BatchNorm2d(16, eps=0.001, momentum=0.03, affine=True, track_running_stats=True)\n",
       "            (act): SiLU(inplace=True)\n",
       "          )\n",
       "        )\n",
       "      )\n",
       "    )\n",
       "    (3): Conv(\n",
       "      (conv): Conv2d(32, 64, kernel_size=(3, 3), stride=(2, 2), padding=(1, 1), bias=False)\n",
       "      (bn): BatchNorm2d(64, eps=0.001, momentum=0.03, affine=True, track_running_stats=True)\n",
       "      (act): SiLU(inplace=True)\n",
       "    )\n",
       "    (4): C2f(\n",
       "      (cv1): Conv(\n",
       "        (conv): Conv2d(64, 64, kernel_size=(1, 1), stride=(1, 1), bias=False)\n",
       "        (bn): BatchNorm2d(64, eps=0.001, momentum=0.03, affine=True, track_running_stats=True)\n",
       "        (act): SiLU(inplace=True)\n",
       "      )\n",
       "      (cv2): Conv(\n",
       "        (conv): Conv2d(128, 64, kernel_size=(1, 1), stride=(1, 1), bias=False)\n",
       "        (bn): BatchNorm2d(64, eps=0.001, momentum=0.03, affine=True, track_running_stats=True)\n",
       "        (act): SiLU(inplace=True)\n",
       "      )\n",
       "      (m): ModuleList(\n",
       "        (0-1): 2 x Bottleneck(\n",
       "          (cv1): Conv(\n",
       "            (conv): Conv2d(32, 32, kernel_size=(3, 3), stride=(1, 1), padding=(1, 1), bias=False)\n",
       "            (bn): BatchNorm2d(32, eps=0.001, momentum=0.03, affine=True, track_running_stats=True)\n",
       "            (act): SiLU(inplace=True)\n",
       "          )\n",
       "          (cv2): Conv(\n",
       "            (conv): Conv2d(32, 32, kernel_size=(3, 3), stride=(1, 1), padding=(1, 1), bias=False)\n",
       "            (bn): BatchNorm2d(32, eps=0.001, momentum=0.03, affine=True, track_running_stats=True)\n",
       "            (act): SiLU(inplace=True)\n",
       "          )\n",
       "        )\n",
       "      )\n",
       "    )\n",
       "    (5): Conv(\n",
       "      (conv): Conv2d(64, 128, kernel_size=(3, 3), stride=(2, 2), padding=(1, 1), bias=False)\n",
       "      (bn): BatchNorm2d(128, eps=0.001, momentum=0.03, affine=True, track_running_stats=True)\n",
       "      (act): SiLU(inplace=True)\n",
       "    )\n",
       "    (6): C2f(\n",
       "      (cv1): Conv(\n",
       "        (conv): Conv2d(128, 128, kernel_size=(1, 1), stride=(1, 1), bias=False)\n",
       "        (bn): BatchNorm2d(128, eps=0.001, momentum=0.03, affine=True, track_running_stats=True)\n",
       "        (act): SiLU(inplace=True)\n",
       "      )\n",
       "      (cv2): Conv(\n",
       "        (conv): Conv2d(256, 128, kernel_size=(1, 1), stride=(1, 1), bias=False)\n",
       "        (bn): BatchNorm2d(128, eps=0.001, momentum=0.03, affine=True, track_running_stats=True)\n",
       "        (act): SiLU(inplace=True)\n",
       "      )\n",
       "      (m): ModuleList(\n",
       "        (0-1): 2 x Bottleneck(\n",
       "          (cv1): Conv(\n",
       "            (conv): Conv2d(64, 64, kernel_size=(3, 3), stride=(1, 1), padding=(1, 1), bias=False)\n",
       "            (bn): BatchNorm2d(64, eps=0.001, momentum=0.03, affine=True, track_running_stats=True)\n",
       "            (act): SiLU(inplace=True)\n",
       "          )\n",
       "          (cv2): Conv(\n",
       "            (conv): Conv2d(64, 64, kernel_size=(3, 3), stride=(1, 1), padding=(1, 1), bias=False)\n",
       "            (bn): BatchNorm2d(64, eps=0.001, momentum=0.03, affine=True, track_running_stats=True)\n",
       "            (act): SiLU(inplace=True)\n",
       "          )\n",
       "        )\n",
       "      )\n",
       "    )\n",
       "    (7): Conv(\n",
       "      (conv): Conv2d(128, 256, kernel_size=(3, 3), stride=(2, 2), padding=(1, 1), bias=False)\n",
       "      (bn): BatchNorm2d(256, eps=0.001, momentum=0.03, affine=True, track_running_stats=True)\n",
       "      (act): SiLU(inplace=True)\n",
       "    )\n",
       "    (8): C2f(\n",
       "      (cv1): Conv(\n",
       "        (conv): Conv2d(256, 256, kernel_size=(1, 1), stride=(1, 1), bias=False)\n",
       "        (bn): BatchNorm2d(256, eps=0.001, momentum=0.03, affine=True, track_running_stats=True)\n",
       "        (act): SiLU(inplace=True)\n",
       "      )\n",
       "      (cv2): Conv(\n",
       "        (conv): Conv2d(384, 256, kernel_size=(1, 1), stride=(1, 1), bias=False)\n",
       "        (bn): BatchNorm2d(256, eps=0.001, momentum=0.03, affine=True, track_running_stats=True)\n",
       "        (act): SiLU(inplace=True)\n",
       "      )\n",
       "      (m): ModuleList(\n",
       "        (0): Bottleneck(\n",
       "          (cv1): Conv(\n",
       "            (conv): Conv2d(128, 128, kernel_size=(3, 3), stride=(1, 1), padding=(1, 1), bias=False)\n",
       "            (bn): BatchNorm2d(128, eps=0.001, momentum=0.03, affine=True, track_running_stats=True)\n",
       "            (act): SiLU(inplace=True)\n",
       "          )\n",
       "          (cv2): Conv(\n",
       "            (conv): Conv2d(128, 128, kernel_size=(3, 3), stride=(1, 1), padding=(1, 1), bias=False)\n",
       "            (bn): BatchNorm2d(128, eps=0.001, momentum=0.03, affine=True, track_running_stats=True)\n",
       "            (act): SiLU(inplace=True)\n",
       "          )\n",
       "        )\n",
       "      )\n",
       "    )\n",
       "    (9): SPPF(\n",
       "      (cv1): Conv(\n",
       "        (conv): Conv2d(256, 128, kernel_size=(1, 1), stride=(1, 1), bias=False)\n",
       "        (bn): BatchNorm2d(128, eps=0.001, momentum=0.03, affine=True, track_running_stats=True)\n",
       "        (act): SiLU(inplace=True)\n",
       "      )\n",
       "      (cv2): Conv(\n",
       "        (conv): Conv2d(512, 256, kernel_size=(1, 1), stride=(1, 1), bias=False)\n",
       "        (bn): BatchNorm2d(256, eps=0.001, momentum=0.03, affine=True, track_running_stats=True)\n",
       "        (act): SiLU(inplace=True)\n",
       "      )\n",
       "      (m): MaxPool2d(kernel_size=5, stride=1, padding=2, dilation=1, ceil_mode=False)\n",
       "    )\n",
       "    (10): Upsample(scale_factor=2.0, mode='nearest')\n",
       "    (11): Concat()\n",
       "    (12): C2f(\n",
       "      (cv1): Conv(\n",
       "        (conv): Conv2d(384, 128, kernel_size=(1, 1), stride=(1, 1), bias=False)\n",
       "        (bn): BatchNorm2d(128, eps=0.001, momentum=0.03, affine=True, track_running_stats=True)\n",
       "        (act): SiLU(inplace=True)\n",
       "      )\n",
       "      (cv2): Conv(\n",
       "        (conv): Conv2d(192, 128, kernel_size=(1, 1), stride=(1, 1), bias=False)\n",
       "        (bn): BatchNorm2d(128, eps=0.001, momentum=0.03, affine=True, track_running_stats=True)\n",
       "        (act): SiLU(inplace=True)\n",
       "      )\n",
       "      (m): ModuleList(\n",
       "        (0): Bottleneck(\n",
       "          (cv1): Conv(\n",
       "            (conv): Conv2d(64, 64, kernel_size=(3, 3), stride=(1, 1), padding=(1, 1), bias=False)\n",
       "            (bn): BatchNorm2d(64, eps=0.001, momentum=0.03, affine=True, track_running_stats=True)\n",
       "            (act): SiLU(inplace=True)\n",
       "          )\n",
       "          (cv2): Conv(\n",
       "            (conv): Conv2d(64, 64, kernel_size=(3, 3), stride=(1, 1), padding=(1, 1), bias=False)\n",
       "            (bn): BatchNorm2d(64, eps=0.001, momentum=0.03, affine=True, track_running_stats=True)\n",
       "            (act): SiLU(inplace=True)\n",
       "          )\n",
       "        )\n",
       "      )\n",
       "    )\n",
       "    (13): Upsample(scale_factor=2.0, mode='nearest')\n",
       "    (14): Concat()\n",
       "    (15): C2f(\n",
       "      (cv1): Conv(\n",
       "        (conv): Conv2d(192, 64, kernel_size=(1, 1), stride=(1, 1), bias=False)\n",
       "        (bn): BatchNorm2d(64, eps=0.001, momentum=0.03, affine=True, track_running_stats=True)\n",
       "        (act): SiLU(inplace=True)\n",
       "      )\n",
       "      (cv2): Conv(\n",
       "        (conv): Conv2d(96, 64, kernel_size=(1, 1), stride=(1, 1), bias=False)\n",
       "        (bn): BatchNorm2d(64, eps=0.001, momentum=0.03, affine=True, track_running_stats=True)\n",
       "        (act): SiLU(inplace=True)\n",
       "      )\n",
       "      (m): ModuleList(\n",
       "        (0): Bottleneck(\n",
       "          (cv1): Conv(\n",
       "            (conv): Conv2d(32, 32, kernel_size=(3, 3), stride=(1, 1), padding=(1, 1), bias=False)\n",
       "            (bn): BatchNorm2d(32, eps=0.001, momentum=0.03, affine=True, track_running_stats=True)\n",
       "            (act): SiLU(inplace=True)\n",
       "          )\n",
       "          (cv2): Conv(\n",
       "            (conv): Conv2d(32, 32, kernel_size=(3, 3), stride=(1, 1), padding=(1, 1), bias=False)\n",
       "            (bn): BatchNorm2d(32, eps=0.001, momentum=0.03, affine=True, track_running_stats=True)\n",
       "            (act): SiLU(inplace=True)\n",
       "          )\n",
       "        )\n",
       "      )\n",
       "    )\n",
       "    (16): Conv(\n",
       "      (conv): Conv2d(64, 64, kernel_size=(3, 3), stride=(2, 2), padding=(1, 1), bias=False)\n",
       "      (bn): BatchNorm2d(64, eps=0.001, momentum=0.03, affine=True, track_running_stats=True)\n",
       "      (act): SiLU(inplace=True)\n",
       "    )\n",
       "    (17): Concat()\n",
       "    (18): C2f(\n",
       "      (cv1): Conv(\n",
       "        (conv): Conv2d(192, 128, kernel_size=(1, 1), stride=(1, 1), bias=False)\n",
       "        (bn): BatchNorm2d(128, eps=0.001, momentum=0.03, affine=True, track_running_stats=True)\n",
       "        (act): SiLU(inplace=True)\n",
       "      )\n",
       "      (cv2): Conv(\n",
       "        (conv): Conv2d(192, 128, kernel_size=(1, 1), stride=(1, 1), bias=False)\n",
       "        (bn): BatchNorm2d(128, eps=0.001, momentum=0.03, affine=True, track_running_stats=True)\n",
       "        (act): SiLU(inplace=True)\n",
       "      )\n",
       "      (m): ModuleList(\n",
       "        (0): Bottleneck(\n",
       "          (cv1): Conv(\n",
       "            (conv): Conv2d(64, 64, kernel_size=(3, 3), stride=(1, 1), padding=(1, 1), bias=False)\n",
       "            (bn): BatchNorm2d(64, eps=0.001, momentum=0.03, affine=True, track_running_stats=True)\n",
       "            (act): SiLU(inplace=True)\n",
       "          )\n",
       "          (cv2): Conv(\n",
       "            (conv): Conv2d(64, 64, kernel_size=(3, 3), stride=(1, 1), padding=(1, 1), bias=False)\n",
       "            (bn): BatchNorm2d(64, eps=0.001, momentum=0.03, affine=True, track_running_stats=True)\n",
       "            (act): SiLU(inplace=True)\n",
       "          )\n",
       "        )\n",
       "      )\n",
       "    )\n",
       "    (19): Conv(\n",
       "      (conv): Conv2d(128, 128, kernel_size=(3, 3), stride=(2, 2), padding=(1, 1), bias=False)\n",
       "      (bn): BatchNorm2d(128, eps=0.001, momentum=0.03, affine=True, track_running_stats=True)\n",
       "      (act): SiLU(inplace=True)\n",
       "    )\n",
       "    (20): Concat()\n",
       "    (21): C2f(\n",
       "      (cv1): Conv(\n",
       "        (conv): Conv2d(384, 256, kernel_size=(1, 1), stride=(1, 1), bias=False)\n",
       "        (bn): BatchNorm2d(256, eps=0.001, momentum=0.03, affine=True, track_running_stats=True)\n",
       "        (act): SiLU(inplace=True)\n",
       "      )\n",
       "      (cv2): Conv(\n",
       "        (conv): Conv2d(384, 256, kernel_size=(1, 1), stride=(1, 1), bias=False)\n",
       "        (bn): BatchNorm2d(256, eps=0.001, momentum=0.03, affine=True, track_running_stats=True)\n",
       "        (act): SiLU(inplace=True)\n",
       "      )\n",
       "      (m): ModuleList(\n",
       "        (0): Bottleneck(\n",
       "          (cv1): Conv(\n",
       "            (conv): Conv2d(128, 128, kernel_size=(3, 3), stride=(1, 1), padding=(1, 1), bias=False)\n",
       "            (bn): BatchNorm2d(128, eps=0.001, momentum=0.03, affine=True, track_running_stats=True)\n",
       "            (act): SiLU(inplace=True)\n",
       "          )\n",
       "          (cv2): Conv(\n",
       "            (conv): Conv2d(128, 128, kernel_size=(3, 3), stride=(1, 1), padding=(1, 1), bias=False)\n",
       "            (bn): BatchNorm2d(128, eps=0.001, momentum=0.03, affine=True, track_running_stats=True)\n",
       "            (act): SiLU(inplace=True)\n",
       "          )\n",
       "        )\n",
       "      )\n",
       "    )\n",
       "    (22): Detect(\n",
       "      (cv2): ModuleList(\n",
       "        (0): Sequential(\n",
       "          (0): Conv(\n",
       "            (conv): Conv2d(64, 64, kernel_size=(3, 3), stride=(1, 1), padding=(1, 1), bias=False)\n",
       "            (bn): BatchNorm2d(64, eps=0.001, momentum=0.03, affine=True, track_running_stats=True)\n",
       "            (act): SiLU(inplace=True)\n",
       "          )\n",
       "          (1): Conv(\n",
       "            (conv): Conv2d(64, 64, kernel_size=(3, 3), stride=(1, 1), padding=(1, 1), bias=False)\n",
       "            (bn): BatchNorm2d(64, eps=0.001, momentum=0.03, affine=True, track_running_stats=True)\n",
       "            (act): SiLU(inplace=True)\n",
       "          )\n",
       "          (2): Conv2d(64, 64, kernel_size=(1, 1), stride=(1, 1))\n",
       "        )\n",
       "        (1): Sequential(\n",
       "          (0): Conv(\n",
       "            (conv): Conv2d(128, 64, kernel_size=(3, 3), stride=(1, 1), padding=(1, 1), bias=False)\n",
       "            (bn): BatchNorm2d(64, eps=0.001, momentum=0.03, affine=True, track_running_stats=True)\n",
       "            (act): SiLU(inplace=True)\n",
       "          )\n",
       "          (1): Conv(\n",
       "            (conv): Conv2d(64, 64, kernel_size=(3, 3), stride=(1, 1), padding=(1, 1), bias=False)\n",
       "            (bn): BatchNorm2d(64, eps=0.001, momentum=0.03, affine=True, track_running_stats=True)\n",
       "            (act): SiLU(inplace=True)\n",
       "          )\n",
       "          (2): Conv2d(64, 64, kernel_size=(1, 1), stride=(1, 1))\n",
       "        )\n",
       "        (2): Sequential(\n",
       "          (0): Conv(\n",
       "            (conv): Conv2d(256, 64, kernel_size=(3, 3), stride=(1, 1), padding=(1, 1), bias=False)\n",
       "            (bn): BatchNorm2d(64, eps=0.001, momentum=0.03, affine=True, track_running_stats=True)\n",
       "            (act): SiLU(inplace=True)\n",
       "          )\n",
       "          (1): Conv(\n",
       "            (conv): Conv2d(64, 64, kernel_size=(3, 3), stride=(1, 1), padding=(1, 1), bias=False)\n",
       "            (bn): BatchNorm2d(64, eps=0.001, momentum=0.03, affine=True, track_running_stats=True)\n",
       "            (act): SiLU(inplace=True)\n",
       "          )\n",
       "          (2): Conv2d(64, 64, kernel_size=(1, 1), stride=(1, 1))\n",
       "        )\n",
       "      )\n",
       "      (cv3): ModuleList(\n",
       "        (0): Sequential(\n",
       "          (0): Conv(\n",
       "            (conv): Conv2d(64, 64, kernel_size=(3, 3), stride=(1, 1), padding=(1, 1), bias=False)\n",
       "            (bn): BatchNorm2d(64, eps=0.001, momentum=0.03, affine=True, track_running_stats=True)\n",
       "            (act): SiLU(inplace=True)\n",
       "          )\n",
       "          (1): Conv(\n",
       "            (conv): Conv2d(64, 64, kernel_size=(3, 3), stride=(1, 1), padding=(1, 1), bias=False)\n",
       "            (bn): BatchNorm2d(64, eps=0.001, momentum=0.03, affine=True, track_running_stats=True)\n",
       "            (act): SiLU(inplace=True)\n",
       "          )\n",
       "          (2): Conv2d(64, 20, kernel_size=(1, 1), stride=(1, 1))\n",
       "        )\n",
       "        (1): Sequential(\n",
       "          (0): Conv(\n",
       "            (conv): Conv2d(128, 64, kernel_size=(3, 3), stride=(1, 1), padding=(1, 1), bias=False)\n",
       "            (bn): BatchNorm2d(64, eps=0.001, momentum=0.03, affine=True, track_running_stats=True)\n",
       "            (act): SiLU(inplace=True)\n",
       "          )\n",
       "          (1): Conv(\n",
       "            (conv): Conv2d(64, 64, kernel_size=(3, 3), stride=(1, 1), padding=(1, 1), bias=False)\n",
       "            (bn): BatchNorm2d(64, eps=0.001, momentum=0.03, affine=True, track_running_stats=True)\n",
       "            (act): SiLU(inplace=True)\n",
       "          )\n",
       "          (2): Conv2d(64, 20, kernel_size=(1, 1), stride=(1, 1))\n",
       "        )\n",
       "        (2): Sequential(\n",
       "          (0): Conv(\n",
       "            (conv): Conv2d(256, 64, kernel_size=(3, 3), stride=(1, 1), padding=(1, 1), bias=False)\n",
       "            (bn): BatchNorm2d(64, eps=0.001, momentum=0.03, affine=True, track_running_stats=True)\n",
       "            (act): SiLU(inplace=True)\n",
       "          )\n",
       "          (1): Conv(\n",
       "            (conv): Conv2d(64, 64, kernel_size=(3, 3), stride=(1, 1), padding=(1, 1), bias=False)\n",
       "            (bn): BatchNorm2d(64, eps=0.001, momentum=0.03, affine=True, track_running_stats=True)\n",
       "            (act): SiLU(inplace=True)\n",
       "          )\n",
       "          (2): Conv2d(64, 20, kernel_size=(1, 1), stride=(1, 1))\n",
       "        )\n",
       "      )\n",
       "      (dfl): DFL(\n",
       "        (conv): Conv2d(16, 1, kernel_size=(1, 1), stride=(1, 1), bias=False)\n",
       "      )\n",
       "    )\n",
       "  )\n",
       ")"
      ]
     },
     "execution_count": 4,
     "metadata": {},
     "output_type": "execute_result"
    }
   ],
   "source": [
    "data_info = cfg2dict(data_info_path)\n",
    "cfg = get_cfg(yaml_path)\n",
    "voc_dataset = build_yolo_dataset(cfg=cfg, batch=1, img_path=img_path,data=data_info)\n",
    "loader = build_dataloader(cfg=cfg, dataset=voc_dataset, batch=1, workers=cfg.workers)\n",
    "\n",
    "trainer = DetectionTrainer(yaml_path)\n",
    "trainer.setup_model()\n",
    "trainer.set_model_attributes()\n",
    "# trainer.model.train()\n",
    "trainer.model.cuda()\n",
    "trainer.model.train()"
   ]
  },
  {
   "cell_type": "code",
   "execution_count": 7,
   "metadata": {},
   "outputs": [
    {
     "name": "stdout",
     "output_type": "stream",
     "text": [
      "[0/5823] Attacking image 2009_002335.jpg ...\n"
     ]
    },
    {
     "name": "stderr",
     "output_type": "stream",
     "text": [
      "\n",
      "image 1/1 /home/son/Desktop/Research/datasets/VOC/images/val2012/2009_002335.jpg: 640x448 1 motorcycle, 28.8ms\n",
      "Speed: 1.2ms preprocess, 28.8ms inference, 1.0ms postprocess per image at shape (1, 3, 640, 448)\n",
      "\n",
      "image 1/1 /home/son/Desktop/Research/ultralytics/img_results/results_yolov8n.pt_0.6_ncc_0.75_0-2500/images_full/val/2009_002335_base.jpg: 640x448 (no detections), 4.7ms\n",
      "Speed: 0.9ms preprocess, 4.7ms inference, 0.9ms postprocess per image at shape (1, 3, 640, 448)\n"
     ]
    },
    {
     "name": "stdout",
     "output_type": "stream",
     "text": [
      "1\n",
      "tensor([0.8373], device='cuda:0')\n",
      "0\n",
      "tensor([], device='cuda:0')\n"
     ]
    },
    {
     "name": "stderr",
     "output_type": "stream",
     "text": [
      "\n",
      "image 1/1 /home/son/Desktop/Research/datasets/VOC/images/val2012/2009_000412.jpg: 480x640 3 horses, 5.8ms\n",
      "Speed: 1.5ms preprocess, 5.8ms inference, 1.1ms postprocess per image at shape (1, 3, 480, 640)\n",
      "\n",
      "image 1/1 /home/son/Desktop/Research/ultralytics/img_results/results_yolov8n.pt_0.6_ncc_0.75_0-2500/images_full/val/2009_000412_base.jpg: 480x640 1 horse, 5.4ms\n",
      "Speed: 1.6ms preprocess, 5.4ms inference, 1.2ms postprocess per image at shape (1, 3, 480, 640)\n"
     ]
    },
    {
     "name": "stdout",
     "output_type": "stream",
     "text": [
      "[1/5823] Attacking image 2009_000412.jpg ...\n",
      "3\n",
      "tensor([0.9163, 0.9023, 0.8969], device='cuda:0')\n",
      "1\n",
      "tensor([0.8603], device='cuda:0')\n",
      "0.9999989093848167\n"
     ]
    },
    {
     "name": "stderr",
     "output_type": "stream",
     "text": [
      "\n",
      "image 1/1 /home/son/Desktop/Research/ultralytics/img_results/results_yolov8n.pt_0.6_ncc_0.75_0-2500/images_full/val/2009_000412_1_1.jpg: 480x640 1 horse, 4.8ms\n",
      "Speed: 0.9ms preprocess, 4.8ms inference, 1.4ms postprocess per image at shape (1, 3, 480, 640)\n",
      "\n",
      "image 1/1 /home/son/Desktop/Research/ultralytics/img_results/results_yolov8n.pt_0.6_ncc_0.75_0-2500/images_full/val/2009_000412_1_2.jpg: 480x640 1 horse, 4.8ms\n",
      "Speed: 0.8ms preprocess, 4.8ms inference, 1.1ms postprocess per image at shape (1, 3, 480, 640)\n"
     ]
    },
    {
     "name": "stdout",
     "output_type": "stream",
     "text": [
      "1\n",
      "tensor([0.8603], device='cuda:0')\n",
      "0.9999988749044539\n",
      "1\n",
      "tensor([0.8601], device='cuda:0')\n",
      "0.9999986618594436\n"
     ]
    },
    {
     "name": "stderr",
     "output_type": "stream",
     "text": [
      "\n",
      "image 1/1 /home/son/Desktop/Research/ultralytics/img_results/results_yolov8n.pt_0.6_ncc_0.75_0-2500/images_full/val/2009_000412_1_3.jpg: 480x640 1 horse, 5.5ms\n",
      "Speed: 1.3ms preprocess, 5.5ms inference, 1.8ms postprocess per image at shape (1, 3, 480, 640)\n",
      "\n",
      "image 1/1 /home/son/Desktop/Research/ultralytics/img_results/results_yolov8n.pt_0.6_ncc_0.75_0-2500/images_full/val/2009_000412_1_4.jpg: 480x640 1 horse, 4.8ms\n",
      "Speed: 0.9ms preprocess, 4.8ms inference, 1.1ms postprocess per image at shape (1, 3, 480, 640)\n"
     ]
    },
    {
     "name": "stdout",
     "output_type": "stream",
     "text": [
      "1\n",
      "tensor([0.8620], device='cuda:0')\n",
      "0.9999977788664256\n",
      "1\n",
      "tensor([0.8656], device='cuda:0')\n",
      "0.9999964877986813\n"
     ]
    },
    {
     "name": "stderr",
     "output_type": "stream",
     "text": [
      "\n",
      "image 1/1 /home/son/Desktop/Research/ultralytics/img_results/results_yolov8n.pt_0.6_ncc_0.75_0-2500/images_full/val/2009_000412_1_5.jpg: 480x640 1 horse, 4.8ms\n",
      "Speed: 1.1ms preprocess, 4.8ms inference, 1.1ms postprocess per image at shape (1, 3, 480, 640)\n",
      "\n",
      "image 1/1 /home/son/Desktop/Research/ultralytics/img_results/results_yolov8n.pt_0.6_ncc_0.75_0-2500/images_full/val/2009_000412_1_6.jpg: 480x640 1 horse, 4.8ms\n",
      "Speed: 0.9ms preprocess, 4.8ms inference, 1.1ms postprocess per image at shape (1, 3, 480, 640)\n"
     ]
    },
    {
     "name": "stdout",
     "output_type": "stream",
     "text": [
      "1\n",
      "tensor([0.8659], device='cuda:0')\n",
      "0.9999945373970561\n",
      "1\n",
      "tensor([0.8632], device='cuda:0')\n",
      "0.9999912845227715\n"
     ]
    },
    {
     "name": "stderr",
     "output_type": "stream",
     "text": [
      "\n",
      "image 1/1 /home/son/Desktop/Research/ultralytics/img_results/results_yolov8n.pt_0.6_ncc_0.75_0-2500/images_full/val/2009_000412_1_7.jpg: 480x640 1 horse, 4.8ms\n",
      "Speed: 1.0ms preprocess, 4.8ms inference, 1.2ms postprocess per image at shape (1, 3, 480, 640)\n",
      "\n",
      "image 1/1 /home/son/Desktop/Research/ultralytics/img_results/results_yolov8n.pt_0.6_ncc_0.75_0-2500/images_full/val/2009_000412_1_8.jpg: 480x640 1 horse, 6.1ms\n",
      "Speed: 2.0ms preprocess, 6.1ms inference, 1.8ms postprocess per image at shape (1, 3, 480, 640)\n"
     ]
    },
    {
     "name": "stdout",
     "output_type": "stream",
     "text": [
      "1\n",
      "tensor([0.8564], device='cuda:0')\n",
      "0.999987402874884\n",
      "1\n",
      "tensor([0.8579], device='cuda:0')\n",
      "0.9999826659794662\n"
     ]
    },
    {
     "name": "stderr",
     "output_type": "stream",
     "text": [
      "\n",
      "image 1/1 /home/son/Desktop/Research/ultralytics/img_results/results_yolov8n.pt_0.6_ncc_0.75_0-2500/images_full/val/2009_000412_1_9.jpg: 480x640 1 horse, 4.8ms\n",
      "Speed: 1.0ms preprocess, 4.8ms inference, 1.1ms postprocess per image at shape (1, 3, 480, 640)\n",
      "\n",
      "image 1/1 /home/son/Desktop/Research/ultralytics/img_results/results_yolov8n.pt_0.6_ncc_0.75_0-2500/images_full/val/2009_000412_1_10.jpg: 480x640 1 horse, 4.8ms\n",
      "Speed: 0.9ms preprocess, 4.8ms inference, 1.0ms postprocess per image at shape (1, 3, 480, 640)\n"
     ]
    },
    {
     "name": "stdout",
     "output_type": "stream",
     "text": [
      "1\n",
      "tensor([0.8512], device='cuda:0')\n",
      "0.9999766636508598\n",
      "1\n",
      "tensor([0.8576], device='cuda:0')\n",
      "0.9999694628602319\n"
     ]
    },
    {
     "name": "stderr",
     "output_type": "stream",
     "text": [
      "\n",
      "image 1/1 /home/son/Desktop/Research/ultralytics/img_results/results_yolov8n.pt_0.6_ncc_0.75_0-2500/images_full/val/2009_000412_1_11.jpg: 480x640 1 horse, 4.8ms\n",
      "Speed: 0.8ms preprocess, 4.8ms inference, 1.1ms postprocess per image at shape (1, 3, 480, 640)\n",
      "\n",
      "image 1/1 /home/son/Desktop/Research/ultralytics/img_results/results_yolov8n.pt_0.6_ncc_0.75_0-2500/images_full/val/2009_000412_1_12.jpg: 480x640 1 horse, 4.8ms\n",
      "Speed: 0.9ms preprocess, 4.8ms inference, 1.1ms postprocess per image at shape (1, 3, 480, 640)\n"
     ]
    },
    {
     "name": "stdout",
     "output_type": "stream",
     "text": [
      "1\n",
      "tensor([0.8500], device='cuda:0')\n",
      "0.9999610135177828\n",
      "1\n",
      "tensor([0.8511], device='cuda:0')\n",
      "0.9999514517661819\n"
     ]
    },
    {
     "name": "stderr",
     "output_type": "stream",
     "text": [
      "\n",
      "image 1/1 /home/son/Desktop/Research/ultralytics/img_results/results_yolov8n.pt_0.6_ncc_0.75_0-2500/images_full/val/2009_000412_1_13.jpg: 480x640 1 horse, 4.8ms\n",
      "Speed: 0.9ms preprocess, 4.8ms inference, 1.1ms postprocess per image at shape (1, 3, 480, 640)\n",
      "\n",
      "image 1/1 /home/son/Desktop/Research/ultralytics/img_results/results_yolov8n.pt_0.6_ncc_0.75_0-2500/images_full/val/2009_000412_1_14.jpg: 480x640 1 horse, 4.8ms\n",
      "Speed: 0.9ms preprocess, 4.8ms inference, 1.4ms postprocess per image at shape (1, 3, 480, 640)\n"
     ]
    },
    {
     "name": "stdout",
     "output_type": "stream",
     "text": [
      "1\n",
      "tensor([0.8533], device='cuda:0')\n",
      "0.9999401665917349\n",
      "1\n",
      "tensor([0.8496], device='cuda:0')\n",
      "0.9999278461769437\n"
     ]
    },
    {
     "name": "stderr",
     "output_type": "stream",
     "text": [
      "\n",
      "image 1/1 /home/son/Desktop/Research/ultralytics/img_results/results_yolov8n.pt_0.6_ncc_0.75_0-2500/images_full/val/2009_000412_1_15.jpg: 480x640 1 horse, 4.9ms\n",
      "Speed: 0.9ms preprocess, 4.9ms inference, 1.0ms postprocess per image at shape (1, 3, 480, 640)\n",
      "\n",
      "image 1/1 /home/son/Desktop/Research/ultralytics/img_results/results_yolov8n.pt_0.6_ncc_0.75_0-2500/images_full/val/2009_000412_1_16.jpg: 480x640 1 horse, 4.9ms\n",
      "Speed: 0.9ms preprocess, 4.9ms inference, 1.0ms postprocess per image at shape (1, 3, 480, 640)\n"
     ]
    },
    {
     "name": "stdout",
     "output_type": "stream",
     "text": [
      "1\n",
      "tensor([0.8570], device='cuda:0')\n",
      "0.9999133981043674\n",
      "1\n",
      "tensor([0.8607], device='cuda:0')\n",
      "0.9998968559376171\n"
     ]
    },
    {
     "name": "stderr",
     "output_type": "stream",
     "text": [
      "\n",
      "image 1/1 /home/son/Desktop/Research/ultralytics/img_results/results_yolov8n.pt_0.6_ncc_0.75_0-2500/images_full/val/2009_000412_1_17.jpg: 480x640 1 horse, 4.8ms\n",
      "Speed: 0.9ms preprocess, 4.8ms inference, 1.0ms postprocess per image at shape (1, 3, 480, 640)\n",
      "\n",
      "image 1/1 /home/son/Desktop/Research/ultralytics/img_results/results_yolov8n.pt_0.6_ncc_0.75_0-2500/images_full/val/2009_000412_1_18.jpg: 480x640 1 horse, 6.2ms\n",
      "Speed: 1.7ms preprocess, 6.2ms inference, 1.4ms postprocess per image at shape (1, 3, 480, 640)\n"
     ]
    },
    {
     "name": "stdout",
     "output_type": "stream",
     "text": [
      "1\n",
      "tensor([0.8519], device='cuda:0')\n",
      "0.9998778840975152\n",
      "1\n",
      "tensor([0.8460], device='cuda:0')\n",
      "0.9998574872520254\n"
     ]
    },
    {
     "name": "stderr",
     "output_type": "stream",
     "text": [
      "\n",
      "image 1/1 /home/son/Desktop/Research/ultralytics/img_results/results_yolov8n.pt_0.6_ncc_0.75_0-2500/images_full/val/2009_000412_1_19.jpg: 480x640 1 horse, 4.8ms\n",
      "Speed: 0.9ms preprocess, 4.8ms inference, 1.4ms postprocess per image at shape (1, 3, 480, 640)\n",
      "\n",
      "image 1/1 /home/son/Desktop/Research/ultralytics/img_results/results_yolov8n.pt_0.6_ncc_0.75_0-2500/images_full/val/2009_000412_1_20.jpg: 480x640 1 horse, 4.8ms\n",
      "Speed: 0.8ms preprocess, 4.8ms inference, 1.0ms postprocess per image at shape (1, 3, 480, 640)\n"
     ]
    },
    {
     "name": "stdout",
     "output_type": "stream",
     "text": [
      "1\n",
      "tensor([0.8531], device='cuda:0')\n",
      "0.9998363779155971\n",
      "1\n",
      "tensor([0.8494], device='cuda:0')\n",
      "0.999808843392784\n"
     ]
    },
    {
     "name": "stderr",
     "output_type": "stream",
     "text": [
      "\n",
      "image 1/1 /home/son/Desktop/Research/ultralytics/img_results/results_yolov8n.pt_0.6_ncc_0.75_0-2500/images_full/val/2009_000412_1_21.jpg: 480x640 1 horse, 7.9ms\n",
      "Speed: 2.2ms preprocess, 7.9ms inference, 1.3ms postprocess per image at shape (1, 3, 480, 640)\n",
      "\n",
      "image 1/1 /home/son/Desktop/Research/ultralytics/img_results/results_yolov8n.pt_0.6_ncc_0.75_0-2500/images_full/val/2009_000412_1_22.jpg: 480x640 1 horse, 4.8ms\n",
      "Speed: 0.9ms preprocess, 4.8ms inference, 1.0ms postprocess per image at shape (1, 3, 480, 640)\n"
     ]
    },
    {
     "name": "stdout",
     "output_type": "stream",
     "text": [
      "1\n",
      "tensor([0.8433], device='cuda:0')\n",
      "0.9997822763573165\n",
      "1\n",
      "tensor([0.8493], device='cuda:0')\n",
      "0.9997536449664919\n"
     ]
    },
    {
     "name": "stderr",
     "output_type": "stream",
     "text": [
      "\n",
      "image 1/1 /home/son/Desktop/Research/ultralytics/img_results/results_yolov8n.pt_0.6_ncc_0.75_0-2500/images_full/val/2009_000412_1_23.jpg: 480x640 1 horse, 4.8ms\n",
      "Speed: 0.8ms preprocess, 4.8ms inference, 1.2ms postprocess per image at shape (1, 3, 480, 640)\n",
      "\n",
      "image 1/1 /home/son/Desktop/Research/ultralytics/img_results/results_yolov8n.pt_0.6_ncc_0.75_0-2500/images_full/val/2009_000412_1_24.jpg: 480x640 1 horse, 4.8ms\n",
      "Speed: 0.8ms preprocess, 4.8ms inference, 1.1ms postprocess per image at shape (1, 3, 480, 640)\n"
     ]
    },
    {
     "name": "stdout",
     "output_type": "stream",
     "text": [
      "1\n",
      "tensor([0.8439], device='cuda:0')\n",
      "0.9997252243503565\n",
      "1\n",
      "tensor([0.8443], device='cuda:0')\n",
      "0.9996923152475917\n"
     ]
    },
    {
     "name": "stderr",
     "output_type": "stream",
     "text": [
      "\n",
      "image 1/1 /home/son/Desktop/Research/ultralytics/img_results/results_yolov8n.pt_0.6_ncc_0.75_0-2500/images_full/val/2009_000412_1_25.jpg: 480x640 1 horse, 4.8ms\n",
      "Speed: 1.0ms preprocess, 4.8ms inference, 1.2ms postprocess per image at shape (1, 3, 480, 640)\n",
      "\n",
      "image 1/1 /home/son/Desktop/Research/ultralytics/img_results/results_yolov8n.pt_0.6_ncc_0.75_0-2500/images_full/val/2009_000412_1_26.jpg: 480x640 1 horse, 5.0ms\n",
      "Speed: 0.9ms preprocess, 5.0ms inference, 1.0ms postprocess per image at shape (1, 3, 480, 640)\n"
     ]
    },
    {
     "name": "stdout",
     "output_type": "stream",
     "text": [
      "1\n",
      "tensor([0.8445], device='cuda:0')\n",
      "0.9996595546548304\n",
      "1\n",
      "tensor([0.8387], device='cuda:0')\n",
      "0.9996200300271387\n"
     ]
    },
    {
     "name": "stderr",
     "output_type": "stream",
     "text": [
      "\n",
      "image 1/1 /home/son/Desktop/Research/ultralytics/img_results/results_yolov8n.pt_0.6_ncc_0.75_0-2500/images_full/val/2009_000412_1_27.jpg: 480x640 1 horse, 4.8ms\n",
      "Speed: 0.9ms preprocess, 4.8ms inference, 1.1ms postprocess per image at shape (1, 3, 480, 640)\n",
      "\n",
      "image 1/1 /home/son/Desktop/Research/ultralytics/img_results/results_yolov8n.pt_0.6_ncc_0.75_0-2500/images_full/val/2009_000412_1_28.jpg: 480x640 1 horse, 4.8ms\n",
      "Speed: 0.9ms preprocess, 4.8ms inference, 1.1ms postprocess per image at shape (1, 3, 480, 640)\n"
     ]
    },
    {
     "name": "stdout",
     "output_type": "stream",
     "text": [
      "1\n",
      "tensor([0.8476], device='cuda:0')\n",
      "0.9995799905944284\n",
      "1\n",
      "tensor([0.8524], device='cuda:0')\n",
      "0.9995343335542878\n"
     ]
    },
    {
     "name": "stderr",
     "output_type": "stream",
     "text": [
      "\n",
      "image 1/1 /home/son/Desktop/Research/ultralytics/img_results/results_yolov8n.pt_0.6_ncc_0.75_0-2500/images_full/val/2009_000412_1_29.jpg: 480x640 1 horse, 4.8ms\n",
      "Speed: 1.0ms preprocess, 4.8ms inference, 1.2ms postprocess per image at shape (1, 3, 480, 640)\n",
      "\n",
      "image 1/1 /home/son/Desktop/Research/ultralytics/img_results/results_yolov8n.pt_0.6_ncc_0.75_0-2500/images_full/val/2009_000412_1_30.jpg: 480x640 1 horse, 4.8ms\n",
      "Speed: 0.9ms preprocess, 4.8ms inference, 1.1ms postprocess per image at shape (1, 3, 480, 640)\n"
     ]
    },
    {
     "name": "stdout",
     "output_type": "stream",
     "text": [
      "1\n",
      "tensor([0.8492], device='cuda:0')\n",
      "0.9994888596977487\n",
      "1\n",
      "tensor([0.8542], device='cuda:0')\n",
      "0.9994444249392415\n"
     ]
    },
    {
     "name": "stderr",
     "output_type": "stream",
     "text": [
      "\n",
      "image 1/1 /home/son/Desktop/Research/ultralytics/img_results/results_yolov8n.pt_0.6_ncc_0.75_0-2500/images_full/val/2009_000412_1_31.jpg: 480x640 1 horse, 4.8ms\n",
      "Speed: 0.9ms preprocess, 4.8ms inference, 1.2ms postprocess per image at shape (1, 3, 480, 640)\n",
      "\n",
      "image 1/1 /home/son/Desktop/Research/ultralytics/img_results/results_yolov8n.pt_0.6_ncc_0.75_0-2500/images_full/val/2009_000412_1_32.jpg: 480x640 1 horse, 4.8ms\n",
      "Speed: 0.9ms preprocess, 4.8ms inference, 1.0ms postprocess per image at shape (1, 3, 480, 640)\n"
     ]
    },
    {
     "name": "stdout",
     "output_type": "stream",
     "text": [
      "1\n",
      "tensor([0.8558], device='cuda:0')\n",
      "0.999393881458771\n",
      "1\n",
      "tensor([0.8532], device='cuda:0')\n",
      "0.9993368712390385\n"
     ]
    },
    {
     "name": "stderr",
     "output_type": "stream",
     "text": [
      "\n",
      "image 1/1 /home/son/Desktop/Research/ultralytics/img_results/results_yolov8n.pt_0.6_ncc_0.75_0-2500/images_full/val/2009_000412_1_33.jpg: 480x640 1 horse, 4.9ms\n",
      "Speed: 0.9ms preprocess, 4.9ms inference, 1.1ms postprocess per image at shape (1, 3, 480, 640)\n",
      "\n",
      "image 1/1 /home/son/Desktop/Research/ultralytics/img_results/results_yolov8n.pt_0.6_ncc_0.75_0-2500/images_full/val/2009_000412_1_34.jpg: 480x640 1 horse, 4.8ms\n",
      "Speed: 0.9ms preprocess, 4.8ms inference, 1.2ms postprocess per image at shape (1, 3, 480, 640)\n"
     ]
    },
    {
     "name": "stdout",
     "output_type": "stream",
     "text": [
      "1\n",
      "tensor([0.8529], device='cuda:0')\n",
      "0.9992860417139762\n",
      "1\n",
      "tensor([0.8484], device='cuda:0')\n",
      "0.9992361021787445\n"
     ]
    },
    {
     "name": "stderr",
     "output_type": "stream",
     "text": [
      "\n",
      "image 1/1 /home/son/Desktop/Research/ultralytics/img_results/results_yolov8n.pt_0.6_ncc_0.75_0-2500/images_full/val/2009_000412_1_35.jpg: 480x640 1 horse, 4.9ms\n",
      "Speed: 0.8ms preprocess, 4.9ms inference, 1.1ms postprocess per image at shape (1, 3, 480, 640)\n",
      "\n",
      "image 1/1 /home/son/Desktop/Research/ultralytics/img_results/results_yolov8n.pt_0.6_ncc_0.75_0-2500/images_full/val/2009_000412_1_36.jpg: 480x640 1 horse, 5.0ms\n",
      "Speed: 1.0ms preprocess, 5.0ms inference, 1.1ms postprocess per image at shape (1, 3, 480, 640)\n"
     ]
    },
    {
     "name": "stdout",
     "output_type": "stream",
     "text": [
      "1\n",
      "tensor([0.8489], device='cuda:0')\n",
      "0.9991659108417572\n",
      "1\n",
      "tensor([0.8491], device='cuda:0')\n",
      "0.9991020119074225\n"
     ]
    },
    {
     "name": "stderr",
     "output_type": "stream",
     "text": [
      "\n",
      "image 1/1 /home/son/Desktop/Research/ultralytics/img_results/results_yolov8n.pt_0.6_ncc_0.75_0-2500/images_full/val/2009_000412_1_37.jpg: 480x640 2 horses, 4.8ms\n",
      "Speed: 1.2ms preprocess, 4.8ms inference, 1.5ms postprocess per image at shape (1, 3, 480, 640)\n",
      "\n",
      "image 1/1 /home/son/Desktop/Research/ultralytics/img_results/results_yolov8n.pt_0.6_ncc_0.75_0-2500/images_full/val/2009_000412_2_38.jpg: 480x640 2 horses, 4.9ms\n",
      "Speed: 0.9ms preprocess, 4.9ms inference, 1.1ms postprocess per image at shape (1, 3, 480, 640)\n"
     ]
    },
    {
     "name": "stdout",
     "output_type": "stream",
     "text": [
      "2\n",
      "tensor([0.8490, 0.7502], device='cuda:0')\n",
      "0.9990465657656173\n",
      "0.9997621393724262\n",
      "2\n",
      "tensor([0.8467, 0.7607], device='cuda:0')\n",
      "0.9989775652911024\n",
      "0.9997472724783172\n"
     ]
    },
    {
     "name": "stderr",
     "output_type": "stream",
     "text": [
      "\n",
      "image 1/1 /home/son/Desktop/Research/ultralytics/img_results/results_yolov8n.pt_0.6_ncc_0.75_0-2500/images_full/val/2009_000412_2_39.jpg: 480x640 2 horses, 4.8ms\n",
      "Speed: 1.1ms preprocess, 4.8ms inference, 1.5ms postprocess per image at shape (1, 3, 480, 640)\n",
      "\n",
      "image 1/1 /home/son/Desktop/Research/ultralytics/img_results/results_yolov8n.pt_0.6_ncc_0.75_0-2500/images_full/val/2009_000412_2_40.jpg: 480x640 2 horses, 4.8ms\n",
      "Speed: 0.9ms preprocess, 4.8ms inference, 1.0ms postprocess per image at shape (1, 3, 480, 640)\n"
     ]
    },
    {
     "name": "stdout",
     "output_type": "stream",
     "text": [
      "2\n",
      "tensor([0.8520, 0.7618], device='cuda:0')\n",
      "0.9989059068492909\n",
      "0.9997073933522586\n",
      "2\n",
      "tensor([0.8494, 0.7641], device='cuda:0')\n",
      "0.9988164253873819\n",
      "0.9996634787666863\n"
     ]
    },
    {
     "name": "stderr",
     "output_type": "stream",
     "text": [
      "\n",
      "image 1/1 /home/son/Desktop/Research/ultralytics/img_results/results_yolov8n.pt_0.6_ncc_0.75_0-2500/images_full/val/2009_000412_2_41.jpg: 480x640 1 horse, 4.9ms\n",
      "Speed: 0.9ms preprocess, 4.9ms inference, 1.0ms postprocess per image at shape (1, 3, 480, 640)\n",
      "\n",
      "image 1/1 /home/son/Desktop/Research/ultralytics/img_results/results_yolov8n.pt_0.6_ncc_0.75_0-2500/images_full/val/2009_000412_1_42.jpg: 480x640 2 horses, 4.8ms\n",
      "Speed: 0.9ms preprocess, 4.8ms inference, 1.1ms postprocess per image at shape (1, 3, 480, 640)\n"
     ]
    },
    {
     "name": "stdout",
     "output_type": "stream",
     "text": [
      "1\n",
      "tensor([0.8510], device='cuda:0')\n",
      "0.9987536851672297\n",
      "2\n",
      "tensor([0.8481, 0.7838], device='cuda:0')\n",
      "0.9986732131662389\n",
      "0.9995887920775575\n"
     ]
    },
    {
     "name": "stderr",
     "output_type": "stream",
     "text": [
      "\n",
      "image 1/1 /home/son/Desktop/Research/ultralytics/img_results/results_yolov8n.pt_0.6_ncc_0.75_0-2500/images_full/val/2009_000412_2_43.jpg: 480x640 1 horse, 5.0ms\n",
      "Speed: 1.3ms preprocess, 5.0ms inference, 1.2ms postprocess per image at shape (1, 3, 480, 640)\n",
      "\n",
      "image 1/1 /home/son/Desktop/Research/ultralytics/img_results/results_yolov8n.pt_0.6_ncc_0.75_0-2500/images_full/val/2009_000412_1_44.jpg: 480x640 1 horse, 4.8ms\n",
      "Speed: 1.0ms preprocess, 4.8ms inference, 1.4ms postprocess per image at shape (1, 3, 480, 640)\n"
     ]
    },
    {
     "name": "stdout",
     "output_type": "stream",
     "text": [
      "1\n",
      "tensor([0.8478], device='cuda:0')\n",
      "0.9985701326655384\n",
      "1\n",
      "tensor([0.8504], device='cuda:0')\n",
      "0.9984842212419207\n"
     ]
    },
    {
     "name": "stderr",
     "output_type": "stream",
     "text": [
      "\n",
      "image 1/1 /home/son/Desktop/Research/ultralytics/img_results/results_yolov8n.pt_0.6_ncc_0.75_0-2500/images_full/val/2009_000412_1_45.jpg: 480x640 1 horse, 4.8ms\n",
      "Speed: 0.8ms preprocess, 4.8ms inference, 1.2ms postprocess per image at shape (1, 3, 480, 640)\n",
      "\n",
      "image 1/1 /home/son/Desktop/Research/ultralytics/img_results/results_yolov8n.pt_0.6_ncc_0.75_0-2500/images_full/val/2009_000412_1_46.jpg: 480x640 1 horse, 4.8ms\n",
      "Speed: 0.8ms preprocess, 4.8ms inference, 1.3ms postprocess per image at shape (1, 3, 480, 640)\n"
     ]
    },
    {
     "name": "stdout",
     "output_type": "stream",
     "text": [
      "1\n",
      "tensor([0.8424], device='cuda:0')\n",
      "0.9983779172703426\n",
      "1\n",
      "tensor([0.8444], device='cuda:0')\n",
      "0.9983006344913627\n"
     ]
    },
    {
     "name": "stderr",
     "output_type": "stream",
     "text": [
      "\n",
      "image 1/1 /home/son/Desktop/Research/ultralytics/img_results/results_yolov8n.pt_0.6_ncc_0.75_0-2500/images_full/val/2009_000412_1_47.jpg: 480x640 1 horse, 4.8ms\n",
      "Speed: 0.9ms preprocess, 4.8ms inference, 1.1ms postprocess per image at shape (1, 3, 480, 640)\n",
      "\n",
      "image 1/1 /home/son/Desktop/Research/ultralytics/img_results/results_yolov8n.pt_0.6_ncc_0.75_0-2500/images_full/val/2009_000412_1_48.jpg: 480x640 1 horse, 4.8ms\n",
      "Speed: 0.9ms preprocess, 4.8ms inference, 1.2ms postprocess per image at shape (1, 3, 480, 640)\n"
     ]
    },
    {
     "name": "stdout",
     "output_type": "stream",
     "text": [
      "1\n",
      "tensor([0.8475], device='cuda:0')\n",
      "0.9982248542282854\n",
      "1\n",
      "tensor([0.8482], device='cuda:0')\n",
      "0.9981261794052432\n"
     ]
    },
    {
     "name": "stderr",
     "output_type": "stream",
     "text": [
      "\n",
      "image 1/1 /home/son/Desktop/Research/ultralytics/img_results/results_yolov8n.pt_0.6_ncc_0.75_0-2500/images_full/val/2009_000412_1_49.jpg: 480x640 1 horse, 4.8ms\n",
      "Speed: 0.8ms preprocess, 4.8ms inference, 1.0ms postprocess per image at shape (1, 3, 480, 640)\n",
      "\n",
      "image 1/1 /home/son/Desktop/Research/ultralytics/img_results/results_yolov8n.pt_0.6_ncc_0.75_0-2500/images_full/val/2009_000412_1_50.jpg: 480x640 1 horse, 4.8ms\n",
      "Speed: 1.0ms preprocess, 4.8ms inference, 1.1ms postprocess per image at shape (1, 3, 480, 640)\n"
     ]
    },
    {
     "name": "stdout",
     "output_type": "stream",
     "text": [
      "1\n",
      "tensor([0.8517], device='cuda:0')\n",
      "0.9980202335666788\n",
      "1\n",
      "tensor([0.8378], device='cuda:0')\n",
      "0.9978968071276514\n"
     ]
    },
    {
     "name": "stderr",
     "output_type": "stream",
     "text": [
      "\n",
      "image 1/1 /home/son/Desktop/Research/ultralytics/img_results/results_yolov8n.pt_0.6_ncc_0.75_0-2500/images_full/val/2009_000412_1_51.jpg: 480x640 1 horse, 4.9ms\n",
      "Speed: 0.8ms preprocess, 4.9ms inference, 1.1ms postprocess per image at shape (1, 3, 480, 640)\n",
      "\n",
      "image 1/1 /home/son/Desktop/Research/ultralytics/img_results/results_yolov8n.pt_0.6_ncc_0.75_0-2500/images_full/val/2009_000412_1_52.jpg: 480x640 1 horse, 4.8ms\n",
      "Speed: 0.9ms preprocess, 4.8ms inference, 1.2ms postprocess per image at shape (1, 3, 480, 640)\n"
     ]
    },
    {
     "name": "stdout",
     "output_type": "stream",
     "text": [
      "1\n",
      "tensor([0.8398], device='cuda:0')\n",
      "0.9978041153701723\n",
      "1\n",
      "tensor([0.8573], device='cuda:0')\n",
      "0.9976908561393497\n"
     ]
    },
    {
     "name": "stderr",
     "output_type": "stream",
     "text": [
      "\n",
      "image 1/1 /home/son/Desktop/Research/ultralytics/img_results/results_yolov8n.pt_0.6_ncc_0.75_0-2500/images_full/val/2009_000412_1_53.jpg: 480x640 1 horse, 4.8ms\n",
      "Speed: 0.9ms preprocess, 4.8ms inference, 1.1ms postprocess per image at shape (1, 3, 480, 640)\n",
      "\n",
      "image 1/1 /home/son/Desktop/Research/ultralytics/img_results/results_yolov8n.pt_0.6_ncc_0.75_0-2500/images_full/val/2009_000412_1_54.jpg: 480x640 1 horse, 4.8ms\n",
      "Speed: 1.2ms preprocess, 4.8ms inference, 1.1ms postprocess per image at shape (1, 3, 480, 640)\n"
     ]
    },
    {
     "name": "stdout",
     "output_type": "stream",
     "text": [
      "1\n",
      "tensor([0.8537], device='cuda:0')\n",
      "0.9975764591837338\n",
      "1\n",
      "tensor([0.8591], device='cuda:0')\n",
      "0.9974611859430971\n"
     ]
    },
    {
     "name": "stderr",
     "output_type": "stream",
     "text": [
      "\n",
      "image 1/1 /home/son/Desktop/Research/ultralytics/img_results/results_yolov8n.pt_0.6_ncc_0.75_0-2500/images_full/val/2009_000412_1_55.jpg: 480x640 1 horse, 4.8ms\n",
      "Speed: 1.0ms preprocess, 4.8ms inference, 1.2ms postprocess per image at shape (1, 3, 480, 640)\n",
      "\n",
      "image 1/1 /home/son/Desktop/Research/ultralytics/img_results/results_yolov8n.pt_0.6_ncc_0.75_0-2500/images_full/val/2009_000412_1_56.jpg: 480x640 1 horse, 5.0ms\n",
      "Speed: 1.4ms preprocess, 5.0ms inference, 1.2ms postprocess per image at shape (1, 3, 480, 640)\n"
     ]
    },
    {
     "name": "stdout",
     "output_type": "stream",
     "text": [
      "1\n",
      "tensor([0.8578], device='cuda:0')\n",
      "0.9973403765666427\n",
      "1\n",
      "tensor([0.8686], device='cuda:0')\n",
      "0.9972164648901098\n"
     ]
    },
    {
     "name": "stderr",
     "output_type": "stream",
     "text": [
      "\n",
      "image 1/1 /home/son/Desktop/Research/ultralytics/img_results/results_yolov8n.pt_0.6_ncc_0.75_0-2500/images_full/val/2009_000412_1_57.jpg: 480x640 1 horse, 4.8ms\n",
      "Speed: 0.8ms preprocess, 4.8ms inference, 1.3ms postprocess per image at shape (1, 3, 480, 640)\n",
      "\n",
      "image 1/1 /home/son/Desktop/Research/ultralytics/img_results/results_yolov8n.pt_0.6_ncc_0.75_0-2500/images_full/val/2009_000412_1_58.jpg: 480x640 1 horse, 4.8ms\n",
      "Speed: 1.5ms preprocess, 4.8ms inference, 1.8ms postprocess per image at shape (1, 3, 480, 640)\n"
     ]
    },
    {
     "name": "stdout",
     "output_type": "stream",
     "text": [
      "1\n",
      "tensor([0.8700], device='cuda:0')\n",
      "0.9970892933981322\n",
      "1\n",
      "tensor([0.8772], device='cuda:0')\n",
      "0.9970613537224547\n"
     ]
    },
    {
     "name": "stderr",
     "output_type": "stream",
     "text": [
      "\n",
      "image 1/1 /home/son/Desktop/Research/ultralytics/img_results/results_yolov8n.pt_0.6_ncc_0.75_0-2500/images_full/val/2009_000412_1_59.jpg: 480x640 1 horse, 4.9ms\n",
      "Speed: 1.0ms preprocess, 4.9ms inference, 1.4ms postprocess per image at shape (1, 3, 480, 640)\n",
      "\n",
      "image 1/1 /home/son/Desktop/Research/ultralytics/img_results/results_yolov8n.pt_0.6_ncc_0.75_0-2500/images_full/val/2009_000412_1_60.jpg: 480x640 1 horse, 4.8ms\n",
      "Speed: 0.8ms preprocess, 4.8ms inference, 1.1ms postprocess per image at shape (1, 3, 480, 640)\n"
     ]
    },
    {
     "name": "stdout",
     "output_type": "stream",
     "text": [
      "1\n",
      "tensor([0.8754], device='cuda:0')\n",
      "0.9968958210295396\n",
      "1\n",
      "tensor([0.8810], device='cuda:0')\n",
      "0.9967636133534374\n"
     ]
    },
    {
     "name": "stderr",
     "output_type": "stream",
     "text": [
      "\n",
      "image 1/1 /home/son/Desktop/Research/ultralytics/img_results/results_yolov8n.pt_0.6_ncc_0.75_0-2500/images_full/val/2009_000412_1_61.jpg: 480x640 1 horse, 4.9ms\n",
      "Speed: 1.1ms preprocess, 4.9ms inference, 1.4ms postprocess per image at shape (1, 3, 480, 640)\n",
      "\n",
      "image 1/1 /home/son/Desktop/Research/ultralytics/img_results/results_yolov8n.pt_0.6_ncc_0.75_0-2500/images_full/val/2009_000412_1_62.jpg: 480x640 1 horse, 4.8ms\n",
      "Speed: 0.9ms preprocess, 4.8ms inference, 1.1ms postprocess per image at shape (1, 3, 480, 640)\n"
     ]
    },
    {
     "name": "stdout",
     "output_type": "stream",
     "text": [
      "1\n",
      "tensor([0.8721], device='cuda:0')\n",
      "0.9966636825675472\n",
      "1\n",
      "tensor([0.8835], device='cuda:0')\n",
      "0.9964854219712759\n"
     ]
    },
    {
     "name": "stderr",
     "output_type": "stream",
     "text": [
      "\n",
      "image 1/1 /home/son/Desktop/Research/ultralytics/img_results/results_yolov8n.pt_0.6_ncc_0.75_0-2500/images_full/val/2009_000412_1_63.jpg: 480x640 1 horse, 4.9ms\n",
      "Speed: 0.9ms preprocess, 4.9ms inference, 1.1ms postprocess per image at shape (1, 3, 480, 640)\n",
      "\n",
      "image 1/1 /home/son/Desktop/Research/ultralytics/img_results/results_yolov8n.pt_0.6_ncc_0.75_0-2500/images_full/val/2009_000412_1_64.jpg: 480x640 1 horse, 4.8ms\n",
      "Speed: 1.0ms preprocess, 4.8ms inference, 1.2ms postprocess per image at shape (1, 3, 480, 640)\n"
     ]
    },
    {
     "name": "stdout",
     "output_type": "stream",
     "text": [
      "1\n",
      "tensor([0.8824], device='cuda:0')\n",
      "0.9963820800558506\n",
      "1\n",
      "tensor([0.8827], device='cuda:0')\n",
      "0.9962124126269583\n"
     ]
    },
    {
     "name": "stderr",
     "output_type": "stream",
     "text": [
      "\n",
      "image 1/1 /home/son/Desktop/Research/ultralytics/img_results/results_yolov8n.pt_0.6_ncc_0.75_0-2500/images_full/val/2009_000412_1_65.jpg: 480x640 1 horse, 4.8ms\n",
      "Speed: 1.0ms preprocess, 4.8ms inference, 1.2ms postprocess per image at shape (1, 3, 480, 640)\n",
      "\n",
      "image 1/1 /home/son/Desktop/Research/ultralytics/img_results/results_yolov8n.pt_0.6_ncc_0.75_0-2500/images_full/val/2009_000412_1_66.jpg: 480x640 1 horse, 5.4ms\n",
      "Speed: 1.8ms preprocess, 5.4ms inference, 1.1ms postprocess per image at shape (1, 3, 480, 640)\n"
     ]
    },
    {
     "name": "stdout",
     "output_type": "stream",
     "text": [
      "1\n",
      "tensor([0.8911], device='cuda:0')\n",
      "0.9961301365281408\n",
      "1\n",
      "tensor([0.8928], device='cuda:0')\n",
      "0.9959354491764912\n"
     ]
    },
    {
     "name": "stderr",
     "output_type": "stream",
     "text": [
      "\n",
      "image 1/1 /home/son/Desktop/Research/ultralytics/img_results/results_yolov8n.pt_0.6_ncc_0.75_0-2500/images_full/val/2009_000412_1_67.jpg: 480x640 1 horse, 4.8ms\n",
      "Speed: 1.0ms preprocess, 4.8ms inference, 1.5ms postprocess per image at shape (1, 3, 480, 640)\n",
      "\n",
      "image 1/1 /home/son/Desktop/Research/ultralytics/img_results/results_yolov8n.pt_0.6_ncc_0.75_0-2500/images_full/val/2009_000412_1_68.jpg: 480x640 1 horse, 5.1ms\n",
      "Speed: 0.8ms preprocess, 5.1ms inference, 1.0ms postprocess per image at shape (1, 3, 480, 640)\n"
     ]
    },
    {
     "name": "stdout",
     "output_type": "stream",
     "text": [
      "1\n",
      "tensor([0.8912], device='cuda:0')\n",
      "0.9958258745897574\n",
      "1\n",
      "tensor([0.8932], device='cuda:0')\n",
      "0.9955940303114622\n"
     ]
    },
    {
     "name": "stderr",
     "output_type": "stream",
     "text": [
      "\n",
      "image 1/1 /home/son/Desktop/Research/ultralytics/img_results/results_yolov8n.pt_0.6_ncc_0.75_0-2500/images_full/val/2009_000412_1_69.jpg: 480x640 1 horse, 4.9ms\n",
      "Speed: 1.0ms preprocess, 4.9ms inference, 2.2ms postprocess per image at shape (1, 3, 480, 640)\n",
      "\n",
      "image 1/1 /home/son/Desktop/Research/ultralytics/img_results/results_yolov8n.pt_0.6_ncc_0.75_0-2500/images_full/val/2009_000412_1_70.jpg: 480x640 1 horse, 4.8ms\n",
      "Speed: 0.9ms preprocess, 4.8ms inference, 1.0ms postprocess per image at shape (1, 3, 480, 640)\n"
     ]
    },
    {
     "name": "stdout",
     "output_type": "stream",
     "text": [
      "1\n",
      "tensor([0.8911], device='cuda:0')\n",
      "0.9954311196228036\n",
      "1\n",
      "tensor([0.8812], device='cuda:0')\n",
      "0.9952951832999016\n"
     ]
    },
    {
     "name": "stderr",
     "output_type": "stream",
     "text": [
      "\n",
      "image 1/1 /home/son/Desktop/Research/ultralytics/img_results/results_yolov8n.pt_0.6_ncc_0.75_0-2500/images_full/val/2009_000412_1_71.jpg: 480x640 1 horse, 4.9ms\n",
      "Speed: 0.8ms preprocess, 4.9ms inference, 1.1ms postprocess per image at shape (1, 3, 480, 640)\n",
      "\n",
      "image 1/1 /home/son/Desktop/Research/ultralytics/img_results/results_yolov8n.pt_0.6_ncc_0.75_0-2500/images_full/val/2009_000412_1_72.jpg: 480x640 1 horse, 4.8ms\n",
      "Speed: 0.8ms preprocess, 4.8ms inference, 1.4ms postprocess per image at shape (1, 3, 480, 640)\n"
     ]
    },
    {
     "name": "stdout",
     "output_type": "stream",
     "text": [
      "1\n",
      "tensor([0.8881], device='cuda:0')\n",
      "0.9951271811396147\n",
      "1\n",
      "tensor([0.8846], device='cuda:0')\n",
      "0.9949558269088697\n"
     ]
    },
    {
     "name": "stderr",
     "output_type": "stream",
     "text": [
      "\n",
      "image 1/1 /home/son/Desktop/Research/ultralytics/img_results/results_yolov8n.pt_0.6_ncc_0.75_0-2500/images_full/val/2009_000412_1_73.jpg: 480x640 1 horse, 4.8ms\n",
      "Speed: 0.8ms preprocess, 4.8ms inference, 1.1ms postprocess per image at shape (1, 3, 480, 640)\n",
      "\n",
      "image 1/1 /home/son/Desktop/Research/ultralytics/img_results/results_yolov8n.pt_0.6_ncc_0.75_0-2500/images_full/val/2009_000412_1_74.jpg: 480x640 1 horse, 4.8ms\n",
      "Speed: 0.9ms preprocess, 4.8ms inference, 1.1ms postprocess per image at shape (1, 3, 480, 640)\n"
     ]
    },
    {
     "name": "stdout",
     "output_type": "stream",
     "text": [
      "1\n",
      "tensor([0.8847], device='cuda:0')\n",
      "0.9947407581297784\n",
      "1\n",
      "tensor([0.8797], device='cuda:0')\n",
      "0.9946210705455791\n"
     ]
    },
    {
     "name": "stderr",
     "output_type": "stream",
     "text": [
      "\n",
      "image 1/1 /home/son/Desktop/Research/ultralytics/img_results/results_yolov8n.pt_0.6_ncc_0.75_0-2500/images_full/val/2009_000412_1_75.jpg: 480x640 1 horse, 4.8ms\n",
      "Speed: 1.0ms preprocess, 4.8ms inference, 1.2ms postprocess per image at shape (1, 3, 480, 640)\n",
      "\n",
      "image 1/1 /home/son/Desktop/Research/ultralytics/img_results/results_yolov8n.pt_0.6_ncc_0.75_0-2500/images_full/val/2009_000412_1_76.jpg: 480x640 1 horse, 4.8ms\n",
      "Speed: 1.0ms preprocess, 4.8ms inference, 1.1ms postprocess per image at shape (1, 3, 480, 640)\n"
     ]
    },
    {
     "name": "stdout",
     "output_type": "stream",
     "text": [
      "1\n",
      "tensor([0.8752], device='cuda:0')\n",
      "0.9944843614471922\n",
      "1\n",
      "tensor([0.8733], device='cuda:0')\n",
      "0.9942767481702579\n"
     ]
    },
    {
     "name": "stderr",
     "output_type": "stream",
     "text": [
      "\n",
      "image 1/1 /home/son/Desktop/Research/ultralytics/img_results/results_yolov8n.pt_0.6_ncc_0.75_0-2500/images_full/val/2009_000412_1_77.jpg: 480x640 1 horse, 4.8ms\n",
      "Speed: 1.1ms preprocess, 4.8ms inference, 1.5ms postprocess per image at shape (1, 3, 480, 640)\n",
      "\n",
      "image 1/1 /home/son/Desktop/Research/ultralytics/img_results/results_yolov8n.pt_0.6_ncc_0.75_0-2500/images_full/val/2009_000412_1_78.jpg: 480x640 1 horse, 6.9ms\n",
      "Speed: 1.2ms preprocess, 6.9ms inference, 2.1ms postprocess per image at shape (1, 3, 480, 640)\n"
     ]
    },
    {
     "name": "stdout",
     "output_type": "stream",
     "text": [
      "1\n",
      "tensor([0.8726], device='cuda:0')\n",
      "0.9940895603237123\n",
      "1\n",
      "tensor([0.8716], device='cuda:0')\n",
      "0.9938991807237884\n"
     ]
    },
    {
     "name": "stderr",
     "output_type": "stream",
     "text": [
      "\n",
      "image 1/1 /home/son/Desktop/Research/ultralytics/img_results/results_yolov8n.pt_0.6_ncc_0.75_0-2500/images_full/val/2009_000412_1_79.jpg: 480x640 1 horse, 4.8ms\n",
      "Speed: 1.0ms preprocess, 4.8ms inference, 1.1ms postprocess per image at shape (1, 3, 480, 640)\n",
      "\n",
      "image 1/1 /home/son/Desktop/Research/ultralytics/img_results/results_yolov8n.pt_0.6_ncc_0.75_0-2500/images_full/val/2009_000412_1_80.jpg: 480x640 1 horse, 4.8ms\n",
      "Speed: 0.8ms preprocess, 4.8ms inference, 1.0ms postprocess per image at shape (1, 3, 480, 640)\n"
     ]
    },
    {
     "name": "stdout",
     "output_type": "stream",
     "text": [
      "1\n",
      "tensor([0.8693], device='cuda:0')\n",
      "0.9936134374634887\n",
      "1\n",
      "tensor([0.8604], device='cuda:0')\n",
      "0.9934512411503571\n"
     ]
    },
    {
     "name": "stderr",
     "output_type": "stream",
     "text": [
      "\n",
      "image 1/1 /home/son/Desktop/Research/ultralytics/img_results/results_yolov8n.pt_0.6_ncc_0.75_0-2500/images_full/val/2009_000412_1_81.jpg: 480x640 1 horse, 5.9ms\n",
      "Speed: 1.1ms preprocess, 5.9ms inference, 1.6ms postprocess per image at shape (1, 3, 480, 640)\n",
      "\n",
      "image 1/1 /home/son/Desktop/Research/ultralytics/img_results/results_yolov8n.pt_0.6_ncc_0.75_0-2500/images_full/val/2009_000412_1_82.jpg: 480x640 1 horse, 4.8ms\n",
      "Speed: 0.9ms preprocess, 4.8ms inference, 1.1ms postprocess per image at shape (1, 3, 480, 640)\n"
     ]
    },
    {
     "name": "stdout",
     "output_type": "stream",
     "text": [
      "1\n",
      "tensor([0.8519], device='cuda:0')\n",
      "0.9931968586693299\n",
      "1\n",
      "tensor([0.8428], device='cuda:0')\n",
      "0.9930163007361048\n"
     ]
    },
    {
     "name": "stderr",
     "output_type": "stream",
     "text": [
      "\n",
      "image 1/1 /home/son/Desktop/Research/ultralytics/img_results/results_yolov8n.pt_0.6_ncc_0.75_0-2500/images_full/val/2009_000412_1_83.jpg: 480x640 1 horse, 4.8ms\n",
      "Speed: 0.9ms preprocess, 4.8ms inference, 1.3ms postprocess per image at shape (1, 3, 480, 640)\n",
      "\n",
      "image 1/1 /home/son/Desktop/Research/ultralytics/img_results/results_yolov8n.pt_0.6_ncc_0.75_0-2500/images_full/val/2009_000412_1_84.jpg: 480x640 1 horse, 4.8ms\n",
      "Speed: 0.9ms preprocess, 4.8ms inference, 1.1ms postprocess per image at shape (1, 3, 480, 640)\n"
     ]
    },
    {
     "name": "stdout",
     "output_type": "stream",
     "text": [
      "1\n",
      "tensor([0.8550], device='cuda:0')\n",
      "0.9928549021907797\n",
      "1\n",
      "tensor([0.8559], device='cuda:0')\n",
      "0.9925669757507497\n"
     ]
    },
    {
     "name": "stderr",
     "output_type": "stream",
     "text": [
      "\n",
      "image 1/1 /home/son/Desktop/Research/ultralytics/img_results/results_yolov8n.pt_0.6_ncc_0.75_0-2500/images_full/val/2009_000412_1_85.jpg: 480x640 1 horse, 4.8ms\n",
      "Speed: 1.0ms preprocess, 4.8ms inference, 1.0ms postprocess per image at shape (1, 3, 480, 640)\n",
      "\n",
      "image 1/1 /home/son/Desktop/Research/ultralytics/img_results/results_yolov8n.pt_0.6_ncc_0.75_0-2500/images_full/val/2009_000412_1_86.jpg: 480x640 1 horse, 4.8ms\n",
      "Speed: 0.9ms preprocess, 4.8ms inference, 1.1ms postprocess per image at shape (1, 3, 480, 640)\n"
     ]
    },
    {
     "name": "stdout",
     "output_type": "stream",
     "text": [
      "1\n",
      "tensor([0.8658], device='cuda:0')\n",
      "0.992428585827133\n",
      "1\n",
      "tensor([0.8641], device='cuda:0')\n",
      "0.9921584783154763\n"
     ]
    },
    {
     "name": "stderr",
     "output_type": "stream",
     "text": [
      "\n",
      "image 1/1 /home/son/Desktop/Research/ultralytics/img_results/results_yolov8n.pt_0.6_ncc_0.75_0-2500/images_full/val/2009_000412_1_87.jpg: 480x640 1 horse, 4.8ms\n",
      "Speed: 1.0ms preprocess, 4.8ms inference, 1.1ms postprocess per image at shape (1, 3, 480, 640)\n",
      "\n",
      "image 1/1 /home/son/Desktop/Research/ultralytics/img_results/results_yolov8n.pt_0.6_ncc_0.75_0-2500/images_full/val/2009_000412_1_88.jpg: 480x640 1 horse, 5.0ms\n",
      "Speed: 0.9ms preprocess, 5.0ms inference, 1.1ms postprocess per image at shape (1, 3, 480, 640)\n"
     ]
    },
    {
     "name": "stdout",
     "output_type": "stream",
     "text": [
      "1\n",
      "tensor([0.8473], device='cuda:0')\n",
      "0.9919059608812679\n",
      "1\n",
      "tensor([0.8583], device='cuda:0')\n",
      "0.9916787605517609\n"
     ]
    },
    {
     "name": "stderr",
     "output_type": "stream",
     "text": [
      "\n",
      "image 1/1 /home/son/Desktop/Research/ultralytics/img_results/results_yolov8n.pt_0.6_ncc_0.75_0-2500/images_full/val/2009_000412_1_89.jpg: 480x640 1 horse, 4.9ms\n",
      "Speed: 1.0ms preprocess, 4.9ms inference, 1.2ms postprocess per image at shape (1, 3, 480, 640)\n",
      "\n",
      "image 1/1 /home/son/Desktop/Research/ultralytics/img_results/results_yolov8n.pt_0.6_ncc_0.75_0-2500/images_full/val/2009_000412_1_90.jpg: 480x640 1 horse, 4.9ms\n",
      "Speed: 0.9ms preprocess, 4.9ms inference, 1.3ms postprocess per image at shape (1, 3, 480, 640)\n"
     ]
    },
    {
     "name": "stdout",
     "output_type": "stream",
     "text": [
      "1\n",
      "tensor([0.8541], device='cuda:0')\n",
      "0.9913795408714511\n",
      "1\n",
      "tensor([0.8694], device='cuda:0')\n",
      "0.9913697657122935\n"
     ]
    },
    {
     "name": "stderr",
     "output_type": "stream",
     "text": [
      "\n",
      "image 1/1 /home/son/Desktop/Research/ultralytics/img_results/results_yolov8n.pt_0.6_ncc_0.75_0-2500/images_full/val/2009_000412_1_91.jpg: 480x640 1 horse, 4.8ms\n",
      "Speed: 1.0ms preprocess, 4.8ms inference, 1.1ms postprocess per image at shape (1, 3, 480, 640)\n",
      "\n",
      "image 1/1 /home/son/Desktop/Research/ultralytics/img_results/results_yolov8n.pt_0.6_ncc_0.75_0-2500/images_full/val/2009_000412_1_92.jpg: 480x640 1 horse, 4.9ms\n",
      "Speed: 0.9ms preprocess, 4.9ms inference, 1.2ms postprocess per image at shape (1, 3, 480, 640)\n"
     ]
    },
    {
     "name": "stdout",
     "output_type": "stream",
     "text": [
      "1\n",
      "tensor([0.8700], device='cuda:0')\n",
      "0.9910443009565432\n",
      "1\n",
      "tensor([0.8661], device='cuda:0')\n",
      "0.9908051437934958\n"
     ]
    },
    {
     "name": "stderr",
     "output_type": "stream",
     "text": [
      "\n",
      "image 1/1 /home/son/Desktop/Research/ultralytics/img_results/results_yolov8n.pt_0.6_ncc_0.75_0-2500/images_full/val/2009_000412_1_93.jpg: 480x640 1 horse, 4.8ms\n",
      "Speed: 1.0ms preprocess, 4.8ms inference, 1.2ms postprocess per image at shape (1, 3, 480, 640)\n",
      "\n",
      "image 1/1 /home/son/Desktop/Research/ultralytics/img_results/results_yolov8n.pt_0.6_ncc_0.75_0-2500/images_full/val/2009_000412_1_94.jpg: 480x640 1 horse, 4.9ms\n",
      "Speed: 1.1ms preprocess, 4.9ms inference, 1.4ms postprocess per image at shape (1, 3, 480, 640)\n"
     ]
    },
    {
     "name": "stdout",
     "output_type": "stream",
     "text": [
      "1\n",
      "tensor([0.8397], device='cuda:0')\n",
      "0.9905035385124641\n",
      "1\n",
      "tensor([0.8247], device='cuda:0')\n",
      "0.990231689645021\n"
     ]
    },
    {
     "name": "stderr",
     "output_type": "stream",
     "text": [
      "\n",
      "image 1/1 /home/son/Desktop/Research/ultralytics/img_results/results_yolov8n.pt_0.6_ncc_0.75_0-2500/images_full/val/2009_000412_1_95.jpg: 480x640 1 horse, 5.0ms\n",
      "Speed: 0.9ms preprocess, 5.0ms inference, 1.1ms postprocess per image at shape (1, 3, 480, 640)\n",
      "\n",
      "image 1/1 /home/son/Desktop/Research/ultralytics/img_results/results_yolov8n.pt_0.6_ncc_0.75_0-2500/images_full/val/2009_000412_1_96.jpg: 480x640 1 horse, 4.8ms\n",
      "Speed: 0.9ms preprocess, 4.8ms inference, 1.1ms postprocess per image at shape (1, 3, 480, 640)\n"
     ]
    },
    {
     "name": "stdout",
     "output_type": "stream",
     "text": [
      "1\n",
      "tensor([0.8357], device='cuda:0')\n",
      "0.9901852676803633\n",
      "1\n",
      "tensor([0.8416], device='cuda:0')\n",
      "0.9899011692106713\n"
     ]
    },
    {
     "name": "stderr",
     "output_type": "stream",
     "text": [
      "\n",
      "image 1/1 /home/son/Desktop/Research/ultralytics/img_results/results_yolov8n.pt_0.6_ncc_0.75_0-2500/images_full/val/2009_000412_1_97.jpg: 480x640 1 horse, 4.8ms\n",
      "Speed: 0.8ms preprocess, 4.8ms inference, 1.1ms postprocess per image at shape (1, 3, 480, 640)\n",
      "\n",
      "image 1/1 /home/son/Desktop/Research/ultralytics/img_results/results_yolov8n.pt_0.6_ncc_0.75_0-2500/images_full/val/2009_000412_1_98.jpg: 480x640 1 horse, 4.8ms\n",
      "Speed: 0.8ms preprocess, 4.8ms inference, 1.1ms postprocess per image at shape (1, 3, 480, 640)\n"
     ]
    },
    {
     "name": "stdout",
     "output_type": "stream",
     "text": [
      "1\n",
      "tensor([0.8265], device='cuda:0')\n",
      "0.9893714641561256\n",
      "1\n",
      "tensor([0.8046], device='cuda:0')\n",
      "0.9891197327474104\n"
     ]
    },
    {
     "name": "stderr",
     "output_type": "stream",
     "text": [
      "\n",
      "image 1/1 /home/son/Desktop/Research/ultralytics/img_results/results_yolov8n.pt_0.6_ncc_0.75_0-2500/images_full/val/2009_000412_1_99.jpg: 480x640 1 horse, 4.8ms\n",
      "Speed: 0.8ms preprocess, 4.8ms inference, 1.3ms postprocess per image at shape (1, 3, 480, 640)\n"
     ]
    },
    {
     "name": "stdout",
     "output_type": "stream",
     "text": [
      "1\n",
      "tensor([0.8307], device='cuda:0')\n",
      "0.9889293143343505\n"
     ]
    },
    {
     "name": "stderr",
     "output_type": "stream",
     "text": [
      "\n",
      "image 1/1 /home/son/Desktop/Research/ultralytics/img_results/results_yolov8n.pt_0.6_ncc_0.75_0-2500/images_full/val/2009_000412_1_100.jpg: 480x640 1 horse, 5.0ms\n",
      "Speed: 0.9ms preprocess, 5.0ms inference, 1.1ms postprocess per image at shape (1, 3, 480, 640)\n",
      "\n",
      "image 1/1 /home/son/Desktop/Research/ultralytics/img_results/results_yolov8n.pt_0.6_ncc_0.75_0-2500/images_full/val/2009_000412_1_101.jpg: 480x640 1 horse, 4.8ms\n",
      "Speed: 1.2ms preprocess, 4.8ms inference, 1.1ms postprocess per image at shape (1, 3, 480, 640)\n"
     ]
    },
    {
     "name": "stdout",
     "output_type": "stream",
     "text": [
      "1\n",
      "tensor([0.8248], device='cuda:0')\n",
      "0.988747110464856\n",
      "1\n",
      "tensor([0.8299], device='cuda:0')\n",
      "0.988383337089173\n"
     ]
    },
    {
     "name": "stderr",
     "output_type": "stream",
     "text": [
      "\n",
      "image 1/1 /home/son/Desktop/Research/ultralytics/img_results/results_yolov8n.pt_0.6_ncc_0.75_0-2500/images_full/val/2009_000412_1_102.jpg: 480x640 1 horse, 4.9ms\n",
      "Speed: 0.9ms preprocess, 4.9ms inference, 1.1ms postprocess per image at shape (1, 3, 480, 640)\n",
      "\n",
      "image 1/1 /home/son/Desktop/Research/ultralytics/img_results/results_yolov8n.pt_0.6_ncc_0.75_0-2500/images_full/val/2009_000412_1_103.jpg: 480x640 1 horse, 4.8ms\n",
      "Speed: 0.9ms preprocess, 4.8ms inference, 1.1ms postprocess per image at shape (1, 3, 480, 640)\n"
     ]
    },
    {
     "name": "stdout",
     "output_type": "stream",
     "text": [
      "1\n",
      "tensor([0.8271], device='cuda:0')\n",
      "0.9881081551605551\n",
      "1\n",
      "tensor([0.8246], device='cuda:0')\n",
      "0.987754209294997\n"
     ]
    },
    {
     "name": "stderr",
     "output_type": "stream",
     "text": [
      "\n",
      "image 1/1 /home/son/Desktop/Research/ultralytics/img_results/results_yolov8n.pt_0.6_ncc_0.75_0-2500/images_full/val/2009_000412_1_104.jpg: 480x640 1 horse, 4.8ms\n",
      "Speed: 0.9ms preprocess, 4.8ms inference, 1.1ms postprocess per image at shape (1, 3, 480, 640)\n",
      "\n",
      "image 1/1 /home/son/Desktop/Research/ultralytics/img_results/results_yolov8n.pt_0.6_ncc_0.75_0-2500/images_full/val/2009_000412_1_105.jpg: 480x640 1 horse, 4.8ms\n",
      "Speed: 1.0ms preprocess, 4.8ms inference, 1.1ms postprocess per image at shape (1, 3, 480, 640)\n"
     ]
    },
    {
     "name": "stdout",
     "output_type": "stream",
     "text": [
      "1\n",
      "tensor([0.8048], device='cuda:0')\n",
      "0.9875550822823219\n",
      "1\n",
      "tensor([0.8141], device='cuda:0')\n",
      "0.9873497363336037\n"
     ]
    },
    {
     "name": "stderr",
     "output_type": "stream",
     "text": [
      "\n",
      "image 1/1 /home/son/Desktop/Research/ultralytics/img_results/results_yolov8n.pt_0.6_ncc_0.75_0-2500/images_full/val/2009_000412_1_106.jpg: 480x640 1 horse, 4.9ms\n",
      "Speed: 1.1ms preprocess, 4.9ms inference, 1.5ms postprocess per image at shape (1, 3, 480, 640)\n",
      "\n",
      "image 1/1 /home/son/Desktop/Research/ultralytics/img_results/results_yolov8n.pt_0.6_ncc_0.75_0-2500/images_full/val/2009_000412_1_107.jpg: 480x640 1 horse, 4.8ms\n",
      "Speed: 1.0ms preprocess, 4.8ms inference, 1.1ms postprocess per image at shape (1, 3, 480, 640)\n"
     ]
    },
    {
     "name": "stdout",
     "output_type": "stream",
     "text": [
      "1\n",
      "tensor([0.7922], device='cuda:0')\n",
      "0.9872127160369293\n",
      "1\n",
      "tensor([0.7912], device='cuda:0')\n",
      "0.9867722764098534\n"
     ]
    },
    {
     "name": "stderr",
     "output_type": "stream",
     "text": [
      "\n",
      "image 1/1 /home/son/Desktop/Research/ultralytics/img_results/results_yolov8n.pt_0.6_ncc_0.75_0-2500/images_full/val/2009_000412_1_108.jpg: 480x640 1 horse, 4.9ms\n",
      "Speed: 0.9ms preprocess, 4.9ms inference, 1.0ms postprocess per image at shape (1, 3, 480, 640)\n",
      "\n",
      "image 1/1 /home/son/Desktop/Research/ultralytics/img_results/results_yolov8n.pt_0.6_ncc_0.75_0-2500/images_full/val/2009_000412_1_109.jpg: 480x640 1 horse, 6.0ms\n",
      "Speed: 2.7ms preprocess, 6.0ms inference, 1.7ms postprocess per image at shape (1, 3, 480, 640)\n"
     ]
    },
    {
     "name": "stdout",
     "output_type": "stream",
     "text": [
      "1\n",
      "tensor([0.8396], device='cuda:0')\n",
      "0.9867825998272183\n",
      "1\n",
      "tensor([0.8268], device='cuda:0')\n",
      "0.9864726779846961\n"
     ]
    },
    {
     "name": "stderr",
     "output_type": "stream",
     "text": [
      "\n",
      "image 1/1 /home/son/Desktop/Research/ultralytics/img_results/results_yolov8n.pt_0.6_ncc_0.75_0-2500/images_full/val/2009_000412_1_110.jpg: 480x640 1 horse, 4.8ms\n",
      "Speed: 1.0ms preprocess, 4.8ms inference, 1.0ms postprocess per image at shape (1, 3, 480, 640)\n",
      "\n",
      "image 1/1 /home/son/Desktop/Research/ultralytics/img_results/results_yolov8n.pt_0.6_ncc_0.75_0-2500/images_full/val/2009_000412_1_111.jpg: 480x640 1 horse, 4.8ms\n",
      "Speed: 1.0ms preprocess, 4.8ms inference, 1.2ms postprocess per image at shape (1, 3, 480, 640)\n"
     ]
    },
    {
     "name": "stdout",
     "output_type": "stream",
     "text": [
      "1\n",
      "tensor([0.8439], device='cuda:0')\n",
      "0.9861956237269525\n",
      "1\n",
      "tensor([0.8221], device='cuda:0')\n",
      "0.9859642452129851\n"
     ]
    },
    {
     "name": "stderr",
     "output_type": "stream",
     "text": [
      "\n",
      "image 1/1 /home/son/Desktop/Research/ultralytics/img_results/results_yolov8n.pt_0.6_ncc_0.75_0-2500/images_full/val/2009_000412_1_112.jpg: 480x640 1 horse, 4.8ms\n",
      "Speed: 0.9ms preprocess, 4.8ms inference, 1.6ms postprocess per image at shape (1, 3, 480, 640)\n",
      "\n",
      "image 1/1 /home/son/Desktop/Research/ultralytics/img_results/results_yolov8n.pt_0.6_ncc_0.75_0-2500/images_full/val/2009_000412_1_113.jpg: 480x640 1 horse, 4.8ms\n",
      "Speed: 0.9ms preprocess, 4.8ms inference, 1.1ms postprocess per image at shape (1, 3, 480, 640)\n"
     ]
    },
    {
     "name": "stdout",
     "output_type": "stream",
     "text": [
      "1\n",
      "tensor([0.8210], device='cuda:0')\n",
      "0.985575892582855\n",
      "1\n",
      "tensor([0.8130], device='cuda:0')\n",
      "0.9853793530202195\n"
     ]
    },
    {
     "name": "stderr",
     "output_type": "stream",
     "text": [
      "\n",
      "image 1/1 /home/son/Desktop/Research/ultralytics/img_results/results_yolov8n.pt_0.6_ncc_0.75_0-2500/images_full/val/2009_000412_1_114.jpg: 480x640 1 horse, 4.9ms\n",
      "Speed: 1.1ms preprocess, 4.9ms inference, 1.1ms postprocess per image at shape (1, 3, 480, 640)\n",
      "\n",
      "image 1/1 /home/son/Desktop/Research/ultralytics/img_results/results_yolov8n.pt_0.6_ncc_0.75_0-2500/images_full/val/2009_000412_1_115.jpg: 480x640 (no detections), 4.8ms\n",
      "Speed: 0.9ms preprocess, 4.8ms inference, 0.8ms postprocess per image at shape (1, 3, 480, 640)\n"
     ]
    },
    {
     "name": "stdout",
     "output_type": "stream",
     "text": [
      "1\n",
      "tensor([0.7676], device='cuda:0')\n",
      "0.9848171501303616\n",
      "0\n",
      "tensor([], device='cuda:0')\n",
      "[2/5823] Attacking image 2008_002410.jpg ...\n"
     ]
    },
    {
     "name": "stderr",
     "output_type": "stream",
     "text": [
      "\n",
      "image 1/1 /home/son/Desktop/Research/datasets/VOC/images/val2012/2008_002410.jpg: 640x576 2 cats, 32.8ms\n",
      "Speed: 1.8ms preprocess, 32.8ms inference, 1.2ms postprocess per image at shape (1, 3, 640, 576)\n",
      "\n",
      "image 1/1 /home/son/Desktop/Research/ultralytics/img_results/results_yolov8n.pt_0.6_ncc_0.75_0-2500/images_full/val/2008_002410_base.jpg: 640x576 2 cats, 5.8ms\n",
      "Speed: 1.1ms preprocess, 5.8ms inference, 1.3ms postprocess per image at shape (1, 3, 640, 576)\n",
      "\n",
      "image 1/1 /home/son/Desktop/Research/ultralytics/img_results/results_yolov8n.pt_0.6_ncc_0.75_0-2500/images_full/val/2008_002410_2_1.jpg: 640x576 2 cats, 5.6ms\n"
     ]
    },
    {
     "name": "stdout",
     "output_type": "stream",
     "text": [
      "2\n",
      "tensor([0.9178, 0.8894], device='cuda:0')\n",
      "2\n",
      "tensor([0.9116, 0.8981], device='cuda:0')\n",
      "0.9999989482165816\n",
      "0.9999991387941028\n"
     ]
    },
    {
     "name": "stderr",
     "output_type": "stream",
     "text": [
      "Speed: 1.4ms preprocess, 5.6ms inference, 1.4ms postprocess per image at shape (1, 3, 640, 576)\n",
      "\n",
      "image 1/1 /home/son/Desktop/Research/ultralytics/img_results/results_yolov8n.pt_0.6_ncc_0.75_0-2500/images_full/val/2008_002410_2_2.jpg: 640x576 2 cats, 5.6ms\n",
      "Speed: 1.4ms preprocess, 5.6ms inference, 1.5ms postprocess per image at shape (1, 3, 640, 576)\n"
     ]
    },
    {
     "name": "stdout",
     "output_type": "stream",
     "text": [
      "2\n",
      "tensor([0.9116, 0.8981], device='cuda:0')\n",
      "0.9999988808983629\n",
      "0.9999989912818968\n",
      "2\n",
      "tensor([0.9115, 0.8982], device='cuda:0')\n",
      "0.9999975083260642\n",
      "0.9999986746060721\n"
     ]
    },
    {
     "name": "stderr",
     "output_type": "stream",
     "text": [
      "\n",
      "image 1/1 /home/son/Desktop/Research/ultralytics/img_results/results_yolov8n.pt_0.6_ncc_0.75_0-2500/images_full/val/2008_002410_2_3.jpg: 640x576 2 cats, 6.6ms\n",
      "Speed: 1.0ms preprocess, 6.6ms inference, 1.1ms postprocess per image at shape (1, 3, 640, 576)\n",
      "\n",
      "image 1/1 /home/son/Desktop/Research/ultralytics/img_results/results_yolov8n.pt_0.6_ncc_0.75_0-2500/images_full/val/2008_002410_2_4.jpg: 640x576 2 cats, 5.5ms\n",
      "Speed: 1.1ms preprocess, 5.5ms inference, 1.3ms postprocess per image at shape (1, 3, 640, 576)\n"
     ]
    },
    {
     "name": "stdout",
     "output_type": "stream",
     "text": [
      "2\n",
      "tensor([0.9119, 0.8981], device='cuda:0')\n",
      "0.9999942703113661\n",
      "0.9999977813569509\n",
      "2\n",
      "tensor([0.9122, 0.9003], device='cuda:0')\n"
     ]
    },
    {
     "name": "stderr",
     "output_type": "stream",
     "text": [
      "\n",
      "image 1/1 /home/son/Desktop/Research/ultralytics/img_results/results_yolov8n.pt_0.6_ncc_0.75_0-2500/images_full/val/2008_002410_2_5.jpg: 640x576 2 cats, 5.5ms\n",
      "Speed: 1.1ms preprocess, 5.5ms inference, 1.1ms postprocess per image at shape (1, 3, 640, 576)\n"
     ]
    },
    {
     "name": "stdout",
     "output_type": "stream",
     "text": [
      "0.9999886591445357\n",
      "0.9999955939124568\n",
      "2\n",
      "tensor([0.9112, 0.9004], device='cuda:0')\n",
      "0.9999802393705362\n",
      "0.9999905410846113\n"
     ]
    },
    {
     "name": "stderr",
     "output_type": "stream",
     "text": [
      "\n",
      "image 1/1 /home/son/Desktop/Research/ultralytics/img_results/results_yolov8n.pt_0.6_ncc_0.75_0-2500/images_full/val/2008_002410_2_6.jpg: 640x576 2 cats, 5.5ms\n",
      "Speed: 1.0ms preprocess, 5.5ms inference, 1.1ms postprocess per image at shape (1, 3, 640, 576)\n",
      "\n",
      "image 1/1 /home/son/Desktop/Research/ultralytics/img_results/results_yolov8n.pt_0.6_ncc_0.75_0-2500/images_full/val/2008_002410_2_7.jpg: 640x576 2 cats, 5.6ms\n",
      "Speed: 0.9ms preprocess, 5.6ms inference, 1.0ms postprocess per image at shape (1, 3, 640, 576)\n"
     ]
    },
    {
     "name": "stdout",
     "output_type": "stream",
     "text": [
      "2\n",
      "tensor([0.9118, 0.8969], device='cuda:0')\n",
      "0.9999689002143382\n",
      "0.9999807221148255\n",
      "2\n",
      "tensor([0.9117, 0.8997], device='cuda:0')\n",
      "0.9999538344216783\n",
      "0.9999639391205211\n"
     ]
    },
    {
     "name": "stderr",
     "output_type": "stream",
     "text": [
      "\n",
      "image 1/1 /home/son/Desktop/Research/ultralytics/img_results/results_yolov8n.pt_0.6_ncc_0.75_0-2500/images_full/val/2008_002410_2_8.jpg: 640x576 2 cats, 5.6ms\n",
      "Speed: 1.2ms preprocess, 5.6ms inference, 1.2ms postprocess per image at shape (1, 3, 640, 576)\n",
      "\n",
      "image 1/1 /home/son/Desktop/Research/ultralytics/img_results/results_yolov8n.pt_0.6_ncc_0.75_0-2500/images_full/val/2008_002410_2_9.jpg: 640x576 2 cats, 5.5ms\n",
      "Speed: 1.1ms preprocess, 5.5ms inference, 1.2ms postprocess per image at shape (1, 3, 640, 576)\n"
     ]
    },
    {
     "name": "stdout",
     "output_type": "stream",
     "text": [
      "2\n",
      "tensor([0.9106, 0.8956], device='cuda:0')\n",
      "0.9999349836232366\n",
      "0.9999401334616932\n",
      "2\n",
      "tensor([0.9091, 0.8980], device='cuda:0')\n",
      "0.9999116175219426\n",
      "0.9999088722480117\n"
     ]
    },
    {
     "name": "stderr",
     "output_type": "stream",
     "text": [
      "\n",
      "image 1/1 /home/son/Desktop/Research/ultralytics/img_results/results_yolov8n.pt_0.6_ncc_0.75_0-2500/images_full/val/2008_002410_2_10.jpg: 640x576 2 cats, 5.7ms\n",
      "Speed: 1.0ms preprocess, 5.7ms inference, 1.1ms postprocess per image at shape (1, 3, 640, 576)\n",
      "\n",
      "image 1/1 /home/son/Desktop/Research/ultralytics/img_results/results_yolov8n.pt_0.6_ncc_0.75_0-2500/images_full/val/2008_002410_2_11.jpg: 640x576 2 cats, 5.5ms\n",
      "Speed: 1.1ms preprocess, 5.5ms inference, 1.1ms postprocess per image at shape (1, 3, 640, 576)\n"
     ]
    },
    {
     "name": "stdout",
     "output_type": "stream",
     "text": [
      "2\n",
      "tensor([0.9081, 0.8984], device='cuda:0')\n",
      "0.9998832470156414\n",
      "0.9998679861206579\n",
      "2\n",
      "tensor([0.9110, 0.8977], device='cuda:0')\n",
      "0.9998474326701379\n",
      "0.9998167406917908\n"
     ]
    },
    {
     "name": "stderr",
     "output_type": "stream",
     "text": [
      "\n",
      "image 1/1 /home/son/Desktop/Research/ultralytics/img_results/results_yolov8n.pt_0.6_ncc_0.75_0-2500/images_full/val/2008_002410_2_12.jpg: 640x576 2 cats, 5.5ms\n",
      "Speed: 1.1ms preprocess, 5.5ms inference, 1.1ms postprocess per image at shape (1, 3, 640, 576)\n",
      "\n",
      "image 1/1 /home/son/Desktop/Research/ultralytics/img_results/results_yolov8n.pt_0.6_ncc_0.75_0-2500/images_full/val/2008_002410_2_13.jpg: 640x576 2 cats, 5.5ms\n",
      "Speed: 1.1ms preprocess, 5.5ms inference, 1.2ms postprocess per image at shape (1, 3, 640, 576)\n"
     ]
    },
    {
     "name": "stdout",
     "output_type": "stream",
     "text": [
      "2\n",
      "tensor([0.9093, 0.8935], device='cuda:0')\n",
      "0.9998041461647029\n",
      "0.9997541517147489\n",
      "2\n",
      "tensor([0.9106, 0.8881], device='cuda:0')\n",
      "0.9997533442465796\n",
      "0.9996793622913334\n"
     ]
    },
    {
     "name": "stderr",
     "output_type": "stream",
     "text": [
      "\n",
      "image 1/1 /home/son/Desktop/Research/ultralytics/img_results/results_yolov8n.pt_0.6_ncc_0.75_0-2500/images_full/val/2008_002410_2_14.jpg: 640x576 2 cats, 5.6ms\n",
      "Speed: 1.7ms preprocess, 5.6ms inference, 1.4ms postprocess per image at shape (1, 3, 640, 576)\n",
      "\n",
      "image 1/1 /home/son/Desktop/Research/ultralytics/img_results/results_yolov8n.pt_0.6_ncc_0.75_0-2500/images_full/val/2008_002410_2_15.jpg: 640x576 2 cats, 5.7ms\n",
      "Speed: 1.0ms preprocess, 5.7ms inference, 1.3ms postprocess per image at shape (1, 3, 640, 576)\n"
     ]
    },
    {
     "name": "stdout",
     "output_type": "stream",
     "text": [
      "2\n",
      "tensor([0.9070, 0.8775], device='cuda:0')\n",
      "0.9996946405244662\n",
      "0.9995926486371525\n",
      "2\n",
      "tensor([0.9079, 0.8763], device='cuda:0')\n",
      "0.9996281927711929\n",
      "0.999490248014616\n"
     ]
    },
    {
     "name": "stderr",
     "output_type": "stream",
     "text": [
      "\n",
      "image 1/1 /home/son/Desktop/Research/ultralytics/img_results/results_yolov8n.pt_0.6_ncc_0.75_0-2500/images_full/val/2008_002410_2_16.jpg: 640x576 2 cats, 5.6ms\n",
      "Speed: 1.1ms preprocess, 5.6ms inference, 1.7ms postprocess per image at shape (1, 3, 640, 576)\n",
      "\n",
      "image 1/1 /home/son/Desktop/Research/ultralytics/img_results/results_yolov8n.pt_0.6_ncc_0.75_0-2500/images_full/val/2008_002410_2_17.jpg: 640x576 2 cats, 5.5ms\n",
      "Speed: 1.2ms preprocess, 5.5ms inference, 1.1ms postprocess per image at shape (1, 3, 640, 576)\n"
     ]
    },
    {
     "name": "stdout",
     "output_type": "stream",
     "text": [
      "2\n",
      "tensor([0.9053, 0.8692], device='cuda:0')\n",
      "0.999553824769487\n",
      "0.9993795245309314\n",
      "2\n",
      "tensor([0.9051, 0.8625], device='cuda:0')\n",
      "0.9994709829986589\n",
      "0.9992499264442922\n"
     ]
    },
    {
     "name": "stderr",
     "output_type": "stream",
     "text": [
      "\n",
      "image 1/1 /home/son/Desktop/Research/ultralytics/img_results/results_yolov8n.pt_0.6_ncc_0.75_0-2500/images_full/val/2008_002410_2_18.jpg: 640x576 2 cats, 5.6ms\n",
      "Speed: 1.3ms preprocess, 5.6ms inference, 1.4ms postprocess per image at shape (1, 3, 640, 576)\n",
      "\n",
      "image 1/1 /home/son/Desktop/Research/ultralytics/img_results/results_yolov8n.pt_0.6_ncc_0.75_0-2500/images_full/val/2008_002410_2_19.jpg: 640x576 2 cats, 5.5ms\n",
      "Speed: 1.3ms preprocess, 5.5ms inference, 1.3ms postprocess per image at shape (1, 3, 640, 576)\n"
     ]
    },
    {
     "name": "stdout",
     "output_type": "stream",
     "text": [
      "2\n",
      "tensor([0.9017, 0.8573], device='cuda:0')\n",
      "0.9993801546413348\n",
      "0.9990992926460573\n",
      "2\n",
      "tensor([0.9054, 0.8562], device='cuda:0')\n",
      "0.9992811180300174\n",
      "0.9989369312398619\n"
     ]
    },
    {
     "name": "stderr",
     "output_type": "stream",
     "text": [
      "\n",
      "image 1/1 /home/son/Desktop/Research/ultralytics/img_results/results_yolov8n.pt_0.6_ncc_0.75_0-2500/images_full/val/2008_002410_2_20.jpg: 640x576 2 cats, 5.5ms\n",
      "Speed: 1.2ms preprocess, 5.5ms inference, 1.0ms postprocess per image at shape (1, 3, 640, 576)\n",
      "\n",
      "image 1/1 /home/son/Desktop/Research/ultralytics/img_results/results_yolov8n.pt_0.6_ncc_0.75_0-2500/images_full/val/2008_002410_2_21.jpg: 640x576 2 cats, 5.5ms\n",
      "Speed: 1.0ms preprocess, 5.5ms inference, 1.2ms postprocess per image at shape (1, 3, 640, 576)\n"
     ]
    },
    {
     "name": "stdout",
     "output_type": "stream",
     "text": [
      "2\n",
      "tensor([0.9055, 0.8521], device='cuda:0')\n",
      "0.999173780378813\n",
      "0.9987575438603167\n",
      "2\n",
      "tensor([0.9007, 0.8432], device='cuda:0')\n",
      "0.9990571473350381\n",
      "0.9985611215473299\n"
     ]
    },
    {
     "name": "stderr",
     "output_type": "stream",
     "text": [
      "\n",
      "image 1/1 /home/son/Desktop/Research/ultralytics/img_results/results_yolov8n.pt_0.6_ncc_0.75_0-2500/images_full/val/2008_002410_2_22.jpg: 640x576 2 cats, 5.6ms\n",
      "Speed: 1.2ms preprocess, 5.6ms inference, 1.1ms postprocess per image at shape (1, 3, 640, 576)\n",
      "\n",
      "image 1/1 /home/son/Desktop/Research/ultralytics/img_results/results_yolov8n.pt_0.6_ncc_0.75_0-2500/images_full/val/2008_002410_2_23.jpg: 640x576 2 cats, 5.5ms\n",
      "Speed: 1.0ms preprocess, 5.5ms inference, 1.1ms postprocess per image at shape (1, 3, 640, 576)\n"
     ]
    },
    {
     "name": "stdout",
     "output_type": "stream",
     "text": [
      "2\n",
      "tensor([0.9018, 0.8444], device='cuda:0')\n",
      "0.9989326370198771\n",
      "0.998347580120999\n",
      "2\n",
      "tensor([0.9001, 0.8378], device='cuda:0')\n",
      "0.9987987040702953\n",
      "0.9981166743615728\n"
     ]
    },
    {
     "name": "stderr",
     "output_type": "stream",
     "text": [
      "\n",
      "image 1/1 /home/son/Desktop/Research/ultralytics/img_results/results_yolov8n.pt_0.6_ncc_0.75_0-2500/images_full/val/2008_002410_2_24.jpg: 640x576 2 cats, 5.6ms\n",
      "Speed: 1.1ms preprocess, 5.6ms inference, 1.1ms postprocess per image at shape (1, 3, 640, 576)\n",
      "\n",
      "image 1/1 /home/son/Desktop/Research/ultralytics/img_results/results_yolov8n.pt_0.6_ncc_0.75_0-2500/images_full/val/2008_002410_2_25.jpg: 640x576 2 cats, 5.5ms\n",
      "Speed: 1.0ms preprocess, 5.5ms inference, 1.3ms postprocess per image at shape (1, 3, 640, 576)\n"
     ]
    },
    {
     "name": "stdout",
     "output_type": "stream",
     "text": [
      "2\n",
      "tensor([0.9035, 0.8308], device='cuda:0')\n",
      "0.9986559329392636\n",
      "0.9978681431498757\n",
      "2\n",
      "tensor([0.9018, 0.8074], device='cuda:0')\n",
      "0.9985039425257902\n",
      "0.9975953981689352\n"
     ]
    },
    {
     "name": "stderr",
     "output_type": "stream",
     "text": [
      "\n",
      "image 1/1 /home/son/Desktop/Research/ultralytics/img_results/results_yolov8n.pt_0.6_ncc_0.75_0-2500/images_full/val/2008_002410_2_26.jpg: 640x576 2 cats, 5.5ms\n",
      "Speed: 1.3ms preprocess, 5.5ms inference, 1.3ms postprocess per image at shape (1, 3, 640, 576)\n",
      "\n",
      "image 1/1 /home/son/Desktop/Research/ultralytics/img_results/results_yolov8n.pt_0.6_ncc_0.75_0-2500/images_full/val/2008_002410_2_27.jpg: 640x576 1 cat, 5.5ms\n",
      "Speed: 1.0ms preprocess, 5.5ms inference, 1.2ms postprocess per image at shape (1, 3, 640, 576)\n"
     ]
    },
    {
     "name": "stdout",
     "output_type": "stream",
     "text": [
      "2\n",
      "tensor([0.9051, 0.8010], device='cuda:0')\n",
      "0.9983426446702014\n",
      "0.9973236520229379\n",
      "1\n",
      "tensor([0.8999], device='cuda:0')\n",
      "0.9981720957778109\n"
     ]
    },
    {
     "name": "stderr",
     "output_type": "stream",
     "text": [
      "\n",
      "image 1/1 /home/son/Desktop/Research/ultralytics/img_results/results_yolov8n.pt_0.6_ncc_0.75_0-2500/images_full/val/2008_002410_1_28.jpg: 640x576 1 cat, 5.5ms\n",
      "Speed: 1.0ms preprocess, 5.5ms inference, 1.1ms postprocess per image at shape (1, 3, 640, 576)\n",
      "\n",
      "image 1/1 /home/son/Desktop/Research/ultralytics/img_results/results_yolov8n.pt_0.6_ncc_0.75_0-2500/images_full/val/2008_002410_1_29.jpg: 640x576 1 cat, 5.6ms\n",
      "Speed: 1.1ms preprocess, 5.6ms inference, 1.1ms postprocess per image at shape (1, 3, 640, 576)\n"
     ]
    },
    {
     "name": "stdout",
     "output_type": "stream",
     "text": [
      "1\n",
      "tensor([0.8988], device='cuda:0')\n",
      "0.9979920853842802\n",
      "1\n",
      "tensor([0.8980], device='cuda:0')\n",
      "0.9978029970822527\n"
     ]
    },
    {
     "name": "stderr",
     "output_type": "stream",
     "text": [
      "\n",
      "image 1/1 /home/son/Desktop/Research/ultralytics/img_results/results_yolov8n.pt_0.6_ncc_0.75_0-2500/images_full/val/2008_002410_1_30.jpg: 640x576 1 cat, 6.1ms\n",
      "Speed: 1.1ms preprocess, 6.1ms inference, 1.0ms postprocess per image at shape (1, 3, 640, 576)\n",
      "\n",
      "image 1/1 /home/son/Desktop/Research/ultralytics/img_results/results_yolov8n.pt_0.6_ncc_0.75_0-2500/images_full/val/2008_002410_1_31.jpg: 640x576 1 cat, 5.5ms\n",
      "Speed: 1.2ms preprocess, 5.5ms inference, 1.5ms postprocess per image at shape (1, 3, 640, 576)\n"
     ]
    },
    {
     "name": "stdout",
     "output_type": "stream",
     "text": [
      "1\n",
      "tensor([0.8997], device='cuda:0')\n",
      "0.9976042772947877\n",
      "1\n",
      "tensor([0.8985], device='cuda:0')\n",
      "0.997396704114699\n"
     ]
    },
    {
     "name": "stderr",
     "output_type": "stream",
     "text": [
      "\n",
      "image 1/1 /home/son/Desktop/Research/ultralytics/img_results/results_yolov8n.pt_0.6_ncc_0.75_0-2500/images_full/val/2008_002410_1_32.jpg: 640x576 1 cat, 5.5ms\n",
      "Speed: 1.0ms preprocess, 5.5ms inference, 1.1ms postprocess per image at shape (1, 3, 640, 576)\n",
      "\n",
      "image 1/1 /home/son/Desktop/Research/ultralytics/img_results/results_yolov8n.pt_0.6_ncc_0.75_0-2500/images_full/val/2008_002410_1_33.jpg: 640x576 1 cat, 5.5ms\n",
      "Speed: 1.1ms preprocess, 5.5ms inference, 1.1ms postprocess per image at shape (1, 3, 640, 576)\n"
     ]
    },
    {
     "name": "stdout",
     "output_type": "stream",
     "text": [
      "1\n",
      "tensor([0.9007], device='cuda:0')\n",
      "0.9971780110463939\n",
      "1\n",
      "tensor([0.8957], device='cuda:0')\n",
      "0.9969516239668291\n"
     ]
    },
    {
     "name": "stderr",
     "output_type": "stream",
     "text": [
      "\n",
      "image 1/1 /home/son/Desktop/Research/ultralytics/img_results/results_yolov8n.pt_0.6_ncc_0.75_0-2500/images_full/val/2008_002410_1_34.jpg: 640x576 1 cat, 5.6ms\n",
      "Speed: 1.1ms preprocess, 5.6ms inference, 1.1ms postprocess per image at shape (1, 3, 640, 576)\n",
      "\n",
      "image 1/1 /home/son/Desktop/Research/ultralytics/img_results/results_yolov8n.pt_0.6_ncc_0.75_0-2500/images_full/val/2008_002410_1_35.jpg: 640x576 1 cat, 7.4ms\n",
      "Speed: 1.1ms preprocess, 7.4ms inference, 2.8ms postprocess per image at shape (1, 3, 640, 576)\n"
     ]
    },
    {
     "name": "stdout",
     "output_type": "stream",
     "text": [
      "1\n",
      "tensor([0.8982], device='cuda:0')\n",
      "0.9967142319529334\n",
      "1\n",
      "tensor([0.8967], device='cuda:0')\n",
      "0.9964666405345621\n"
     ]
    },
    {
     "name": "stderr",
     "output_type": "stream",
     "text": [
      "\n",
      "image 1/1 /home/son/Desktop/Research/ultralytics/img_results/results_yolov8n.pt_0.6_ncc_0.75_0-2500/images_full/val/2008_002410_1_36.jpg: 640x576 1 cat, 5.6ms\n",
      "Speed: 1.4ms preprocess, 5.6ms inference, 1.3ms postprocess per image at shape (1, 3, 640, 576)\n",
      "\n",
      "image 1/1 /home/son/Desktop/Research/ultralytics/img_results/results_yolov8n.pt_0.6_ncc_0.75_0-2500/images_full/val/2008_002410_1_37.jpg: 640x576 1 cat, 5.5ms\n",
      "Speed: 1.1ms preprocess, 5.5ms inference, 1.1ms postprocess per image at shape (1, 3, 640, 576)\n"
     ]
    },
    {
     "name": "stdout",
     "output_type": "stream",
     "text": [
      "1\n",
      "tensor([0.8946], device='cuda:0')\n",
      "0.9962097731343265\n",
      "1\n",
      "tensor([0.8962], device='cuda:0')\n",
      "0.9959429890741568\n"
     ]
    },
    {
     "name": "stderr",
     "output_type": "stream",
     "text": [
      "\n",
      "image 1/1 /home/son/Desktop/Research/ultralytics/img_results/results_yolov8n.pt_0.6_ncc_0.75_0-2500/images_full/val/2008_002410_1_38.jpg: 640x576 1 cat, 5.8ms\n",
      "Speed: 1.0ms preprocess, 5.8ms inference, 1.1ms postprocess per image at shape (1, 3, 640, 576)\n",
      "\n",
      "image 1/1 /home/son/Desktop/Research/ultralytics/img_results/results_yolov8n.pt_0.6_ncc_0.75_0-2500/images_full/val/2008_002410_1_39.jpg: 640x576 1 cat, 5.5ms\n",
      "Speed: 1.1ms preprocess, 5.5ms inference, 1.1ms postprocess per image at shape (1, 3, 640, 576)\n"
     ]
    },
    {
     "name": "stdout",
     "output_type": "stream",
     "text": [
      "1\n",
      "tensor([0.9005], device='cuda:0')\n",
      "0.9956661431678923\n",
      "1\n",
      "tensor([0.8975], device='cuda:0')\n",
      "0.995379500795148\n"
     ]
    },
    {
     "name": "stderr",
     "output_type": "stream",
     "text": [
      "\n",
      "image 1/1 /home/son/Desktop/Research/ultralytics/img_results/results_yolov8n.pt_0.6_ncc_0.75_0-2500/images_full/val/2008_002410_1_40.jpg: 640x576 1 cat, 5.5ms\n",
      "Speed: 1.2ms preprocess, 5.5ms inference, 1.1ms postprocess per image at shape (1, 3, 640, 576)\n",
      "\n",
      "image 1/1 /home/son/Desktop/Research/ultralytics/img_results/results_yolov8n.pt_0.6_ncc_0.75_0-2500/images_full/val/2008_002410_1_41.jpg: 640x576 1 cat, 5.6ms\n",
      "Speed: 1.2ms preprocess, 5.6ms inference, 1.2ms postprocess per image at shape (1, 3, 640, 576)\n"
     ]
    },
    {
     "name": "stdout",
     "output_type": "stream",
     "text": [
      "1\n",
      "tensor([0.8964], device='cuda:0')\n",
      "0.9950829375656624\n",
      "1\n",
      "tensor([0.8920], device='cuda:0')\n",
      "0.9947766239274461\n"
     ]
    },
    {
     "name": "stderr",
     "output_type": "stream",
     "text": [
      "\n",
      "image 1/1 /home/son/Desktop/Research/ultralytics/img_results/results_yolov8n.pt_0.6_ncc_0.75_0-2500/images_full/val/2008_002410_1_42.jpg: 640x576 1 cat, 5.5ms\n",
      "Speed: 1.0ms preprocess, 5.5ms inference, 1.0ms postprocess per image at shape (1, 3, 640, 576)\n",
      "\n",
      "image 1/1 /home/son/Desktop/Research/ultralytics/img_results/results_yolov8n.pt_0.6_ncc_0.75_0-2500/images_full/val/2008_002410_1_43.jpg: 640x576 1 cat, 5.6ms\n",
      "Speed: 1.3ms preprocess, 5.6ms inference, 1.4ms postprocess per image at shape (1, 3, 640, 576)\n"
     ]
    },
    {
     "name": "stdout",
     "output_type": "stream",
     "text": [
      "1\n",
      "tensor([0.8920], device='cuda:0')\n",
      "0.9944611779552651\n",
      "1\n",
      "tensor([0.8895], device='cuda:0')\n",
      "0.9941358170831373\n"
     ]
    },
    {
     "name": "stderr",
     "output_type": "stream",
     "text": [
      "\n",
      "image 1/1 /home/son/Desktop/Research/ultralytics/img_results/results_yolov8n.pt_0.6_ncc_0.75_0-2500/images_full/val/2008_002410_1_44.jpg: 640x576 1 cat, 5.5ms\n",
      "Speed: 1.3ms preprocess, 5.5ms inference, 1.3ms postprocess per image at shape (1, 3, 640, 576)\n",
      "\n",
      "image 1/1 /home/son/Desktop/Research/ultralytics/img_results/results_yolov8n.pt_0.6_ncc_0.75_0-2500/images_full/val/2008_002410_1_45.jpg: 640x576 1 cat, 5.5ms\n",
      "Speed: 1.1ms preprocess, 5.5ms inference, 1.1ms postprocess per image at shape (1, 3, 640, 576)\n"
     ]
    },
    {
     "name": "stdout",
     "output_type": "stream",
     "text": [
      "1\n",
      "tensor([0.8843], device='cuda:0')\n",
      "0.9938192688181968\n",
      "1\n",
      "tensor([0.8890], device='cuda:0')\n",
      "0.9934591454480721\n"
     ]
    },
    {
     "name": "stderr",
     "output_type": "stream",
     "text": [
      "\n",
      "image 1/1 /home/son/Desktop/Research/ultralytics/img_results/results_yolov8n.pt_0.6_ncc_0.75_0-2500/images_full/val/2008_002410_1_46.jpg: 640x576 1 cat, 5.7ms\n",
      "Speed: 1.6ms preprocess, 5.7ms inference, 1.5ms postprocess per image at shape (1, 3, 640, 576)\n",
      "\n",
      "image 1/1 /home/son/Desktop/Research/ultralytics/img_results/results_yolov8n.pt_0.6_ncc_0.75_0-2500/images_full/val/2008_002410_1_47.jpg: 640x576 1 cat, 5.6ms\n",
      "Speed: 1.3ms preprocess, 5.6ms inference, 1.0ms postprocess per image at shape (1, 3, 640, 576)\n"
     ]
    },
    {
     "name": "stdout",
     "output_type": "stream",
     "text": [
      "1\n",
      "tensor([0.8807], device='cuda:0')\n",
      "0.9931241842386426\n",
      "1\n",
      "tensor([0.8690], device='cuda:0')\n",
      "0.9927417085284141\n"
     ]
    },
    {
     "name": "stderr",
     "output_type": "stream",
     "text": [
      "\n",
      "image 1/1 /home/son/Desktop/Research/ultralytics/img_results/results_yolov8n.pt_0.6_ncc_0.75_0-2500/images_full/val/2008_002410_1_48.jpg: 640x576 1 cat, 5.6ms\n",
      "Speed: 1.3ms preprocess, 5.6ms inference, 1.2ms postprocess per image at shape (1, 3, 640, 576)\n",
      "\n",
      "image 1/1 /home/son/Desktop/Research/ultralytics/img_results/results_yolov8n.pt_0.6_ncc_0.75_0-2500/images_full/val/2008_002410_1_49.jpg: 640x576 1 cat, 5.5ms\n",
      "Speed: 1.1ms preprocess, 5.5ms inference, 1.1ms postprocess per image at shape (1, 3, 640, 576)\n"
     ]
    },
    {
     "name": "stdout",
     "output_type": "stream",
     "text": [
      "1\n",
      "tensor([0.8805], device='cuda:0')\n",
      "0.9923676739277196\n",
      "1\n",
      "tensor([0.8726], device='cuda:0')\n",
      "0.9920310121302106\n"
     ]
    },
    {
     "name": "stderr",
     "output_type": "stream",
     "text": [
      "\n",
      "image 1/1 /home/son/Desktop/Research/ultralytics/img_results/results_yolov8n.pt_0.6_ncc_0.75_0-2500/images_full/val/2008_002410_1_50.jpg: 640x576 1 cat, 5.6ms\n",
      "Speed: 1.4ms preprocess, 5.6ms inference, 1.1ms postprocess per image at shape (1, 3, 640, 576)\n",
      "\n",
      "image 1/1 /home/son/Desktop/Research/ultralytics/img_results/results_yolov8n.pt_0.6_ncc_0.75_0-2500/images_full/val/2008_002410_1_51.jpg: 640x576 1 cat, 5.5ms\n",
      "Speed: 1.1ms preprocess, 5.5ms inference, 1.3ms postprocess per image at shape (1, 3, 640, 576)\n"
     ]
    },
    {
     "name": "stdout",
     "output_type": "stream",
     "text": [
      "1\n",
      "tensor([0.8775], device='cuda:0')\n",
      "0.9916622469924429\n",
      "1\n",
      "tensor([0.8783], device='cuda:0')\n",
      "0.9912378842678927\n"
     ]
    },
    {
     "name": "stderr",
     "output_type": "stream",
     "text": [
      "\n",
      "image 1/1 /home/son/Desktop/Research/ultralytics/img_results/results_yolov8n.pt_0.6_ncc_0.75_0-2500/images_full/val/2008_002410_1_52.jpg: 640x576 1 cat, 5.5ms\n",
      "Speed: 1.0ms preprocess, 5.5ms inference, 1.1ms postprocess per image at shape (1, 3, 640, 576)\n",
      "\n",
      "image 1/1 /home/son/Desktop/Research/ultralytics/img_results/results_yolov8n.pt_0.6_ncc_0.75_0-2500/images_full/val/2008_002410_1_53.jpg: 640x576 1 cat, 5.5ms\n",
      "Speed: 1.1ms preprocess, 5.5ms inference, 1.1ms postprocess per image at shape (1, 3, 640, 576)\n"
     ]
    },
    {
     "name": "stdout",
     "output_type": "stream",
     "text": [
      "1\n",
      "tensor([0.8783], device='cuda:0')\n",
      "0.9908484836453945\n",
      "1\n",
      "tensor([0.8651], device='cuda:0')\n",
      "0.9903561935682297\n"
     ]
    },
    {
     "name": "stderr",
     "output_type": "stream",
     "text": [
      "\n",
      "image 1/1 /home/son/Desktop/Research/ultralytics/img_results/results_yolov8n.pt_0.6_ncc_0.75_0-2500/images_full/val/2008_002410_1_54.jpg: 640x576 1 cat, 5.5ms\n",
      "Speed: 1.0ms preprocess, 5.5ms inference, 1.1ms postprocess per image at shape (1, 3, 640, 576)\n",
      "\n",
      "image 1/1 /home/son/Desktop/Research/ultralytics/img_results/results_yolov8n.pt_0.6_ncc_0.75_0-2500/images_full/val/2008_002410_1_55.jpg: 640x576 1 cat, 5.6ms\n",
      "Speed: 1.0ms preprocess, 5.6ms inference, 1.1ms postprocess per image at shape (1, 3, 640, 576)\n"
     ]
    },
    {
     "name": "stdout",
     "output_type": "stream",
     "text": [
      "1\n",
      "tensor([0.8633], device='cuda:0')\n",
      "0.9899942574559812\n",
      "1\n",
      "tensor([0.8729], device='cuda:0')\n",
      "0.9895523284939092\n"
     ]
    },
    {
     "name": "stderr",
     "output_type": "stream",
     "text": [
      "\n",
      "image 1/1 /home/son/Desktop/Research/ultralytics/img_results/results_yolov8n.pt_0.6_ncc_0.75_0-2500/images_full/val/2008_002410_1_56.jpg: 640x576 1 cat, 5.5ms\n",
      "Speed: 1.4ms preprocess, 5.5ms inference, 1.1ms postprocess per image at shape (1, 3, 640, 576)\n",
      "\n",
      "image 1/1 /home/son/Desktop/Research/ultralytics/img_results/results_yolov8n.pt_0.6_ncc_0.75_0-2500/images_full/val/2008_002410_1_57.jpg: 640x576 1 cat, 5.5ms\n",
      "Speed: 1.1ms preprocess, 5.5ms inference, 1.1ms postprocess per image at shape (1, 3, 640, 576)\n"
     ]
    },
    {
     "name": "stdout",
     "output_type": "stream",
     "text": [
      "1\n",
      "tensor([0.8723], device='cuda:0')\n",
      "0.9890281801449436\n",
      "1\n",
      "tensor([0.8764], device='cuda:0')\n",
      "0.9885634228275378\n"
     ]
    },
    {
     "name": "stderr",
     "output_type": "stream",
     "text": [
      "\n",
      "image 1/1 /home/son/Desktop/Research/ultralytics/img_results/results_yolov8n.pt_0.6_ncc_0.75_0-2500/images_full/val/2008_002410_1_58.jpg: 640x576 1 cat, 5.5ms\n",
      "Speed: 1.0ms preprocess, 5.5ms inference, 1.0ms postprocess per image at shape (1, 3, 640, 576)\n",
      "\n",
      "image 1/1 /home/son/Desktop/Research/ultralytics/img_results/results_yolov8n.pt_0.6_ncc_0.75_0-2500/images_full/val/2008_002410_1_59.jpg: 640x576 1 cat, 5.6ms\n",
      "Speed: 1.1ms preprocess, 5.6ms inference, 1.1ms postprocess per image at shape (1, 3, 640, 576)\n"
     ]
    },
    {
     "name": "stdout",
     "output_type": "stream",
     "text": [
      "1\n",
      "tensor([0.8912], device='cuda:0')\n",
      "0.9880888714565975\n",
      "1\n",
      "tensor([0.8576], device='cuda:0')\n",
      "0.9876047768442986\n"
     ]
    },
    {
     "ename": "KeyboardInterrupt",
     "evalue": "",
     "output_type": "error",
     "traceback": [
      "\u001b[0;31m---------------------------------------------------------------------------\u001b[0m",
      "\u001b[0;31mKeyboardInterrupt\u001b[0m                         Traceback (most recent call last)",
      "\u001b[1;32m/home/son/Desktop/Research/ultralytics/voc_attack.ipynb Cell 7\u001b[0m line \u001b[0;36m1\n\u001b[1;32m    <a href='vscode-notebook-cell:/home/son/Desktop/Research/ultralytics/voc_attack.ipynb#X16sZmlsZQ%3D%3D?line=118'>119</a>\u001b[0m     loss_log_image\u001b[39m.\u001b[39mappend(loss)\n\u001b[1;32m    <a href='vscode-notebook-cell:/home/son/Desktop/Research/ultralytics/voc_attack.ipynb#X16sZmlsZQ%3D%3D?line=120'>121</a>\u001b[0m     torch\u001b[39m.\u001b[39mcuda\u001b[39m.\u001b[39mempty_cache()\n\u001b[0;32m--> <a href='vscode-notebook-cell:/home/son/Desktop/Research/ultralytics/voc_attack.ipynb#X16sZmlsZQ%3D%3D?line=121'>122</a>\u001b[0m     gc\u001b[39m.\u001b[39;49mcollect()\n\u001b[1;32m    <a href='vscode-notebook-cell:/home/son/Desktop/Research/ultralytics/voc_attack.ipynb#X16sZmlsZQ%3D%3D?line=122'>123</a>\u001b[0m delete_min_object_iter(folder_result, name_img, num_object_min, num_iter_min)\n\u001b[1;32m    <a href='vscode-notebook-cell:/home/son/Desktop/Research/ultralytics/voc_attack.ipynb#X16sZmlsZQ%3D%3D?line=123'>124</a>\u001b[0m save_loss(loss_log_image, folder_result, name_img)\n",
      "\u001b[0;31mKeyboardInterrupt\u001b[0m: "
     ]
    }
   ],
   "source": [
    "folder_name = \"results\"\n",
    "conf = 0.75\n",
    "ncc_value = 0.6\n",
    "iter_start = 0\n",
    "iter_end = 2500\n",
    "\n",
    "\n",
    "for i, batch in enumerate(loader[0]):\n",
    "    if (i < iter_start):\n",
    "        continue\n",
    "    if (i > iter_end):\n",
    "        break\n",
    "\n",
    "    loss_log_image  = []\n",
    "    path_img        = batch['im_file'][0]\n",
    "    name_img        = os.path.split(path_img)[-1]\n",
    "\n",
    "    print(f\"[{i}/{len(loader[0])}] Attacking image {name_img} ...\")\n",
    "\n",
    "    batch_tensor    = torch.Tensor(batch['img'].float()).cuda()\n",
    "    origin_tensor   = torch.Tensor(batch['img'].float()).cuda()\n",
    "    img_before      = cv2.imread(path_img)\n",
    "    x,y,_           = img_before.shape              # original img shape\n",
    "    x_new,y_new     = batch_tensor.shape[-2:]       # shape img after augment with yolov8\n",
    "\n",
    "    x1,y1,x2,y2     = cut_images((x,y,3),[x_new,y_new])\n",
    "    \n",
    "    batch_tensor.requires_grad_()\n",
    "    batch_tensor.retain_grad()\n",
    "    b = trainer.model(batch_tensor)\n",
    "    loss, _ = trainer.model.loss(batch=batch, preds=b)\n",
    "\n",
    "    loss.retain_grad()\n",
    "    loss.backward()\n",
    "\n",
    "    alpha = batch_tensor.grad\n",
    "\n",
    "    model = YOLO(cfg.get('model'))\n",
    "    model.conf = conf\n",
    "\n",
    "    image_to_attack_ori = batch_tensor[:,:,y1:y2,x1:x2].detach().clone().cuda()\n",
    "    image_to_attack = batch_tensor[:,:,y1:y2,x1:x2].cuda()\n",
    "    attack_grad     = alpha[:,:,y1:y2,x1:x2].cuda()\n",
    "\n",
    "    step = 100\n",
    "    loss_log_image.append(loss)\n",
    "    folder_result = folder_name +\"_\"+cfg.get('model')+\"_\"+ str(ncc_value) +'_ncc_' + str(conf)+\"_\" + str(iter_start) + \"-\"+ str(iter_end)\n",
    "    num_object_min = 0\n",
    "    num_iter_min   = 0\n",
    "\n",
    "    for number_of_steps in range(60000):\n",
    "        res = model.predict(path_img)\n",
    "        number_object = res[0].boxes.xyxy.shape[0]\n",
    "        print(number_object)\n",
    "        print(res[0].boxes.conf)\n",
    "                \n",
    "        if number_of_steps == 0:\n",
    "            save_visualize_image(image_to_attack/255, folder_result ,name_img, 'base')\n",
    "            path_img           =   f'./img_results/{folder_result}/images_full/val/{name_img[:-4]}_base.jpg'\n",
    "            step = 0\n",
    "            num_object_min += number_object\n",
    "            num_iter_min   += number_of_steps\n",
    "            save_visualize_image(image_to_attack/255, folder_result ,name_img, f'{number_object}_{number_of_steps}')\n",
    "            continue\n",
    "            \n",
    "        else:\n",
    "            step = 100\n",
    "        \n",
    "        if number_object < num_object_min:\n",
    "            num_object_min = 0\n",
    "            num_iter_min   = 0\n",
    "            num_object_min += number_object\n",
    "            num_iter_min   += number_of_steps\n",
    "\n",
    "        \n",
    "        count = 0\n",
    "        masks_object_attack                                            = torch.zeros_like(attack_grad)\n",
    "        for index in range(number_object):\n",
    "            x1_bbox,y1_bbox,x2_bbox,y2_bbox                            = boxes_to_coor(res[0].boxes.xyxy[index])\n",
    "            ########################################\n",
    "            image1 = image_to_attack[:,:,y1_bbox:y2_bbox,x1_bbox:x2_bbox] \n",
    "            image2 = image_to_attack_ori[:,:,y1_bbox:y2_bbox,x1_bbox:x2_bbox]\n",
    "            ncc    = compute_normalized_cross_correlation(image1, image2)\n",
    "            print(ncc)\n",
    "            if ncc < ncc_value:\n",
    "                count += 1\n",
    "                continue        \n",
    "            ########################################\n",
    "            masks_object_attack[:,:,y1_bbox:y2_bbox,x1_bbox:x2_bbox]  += 1\n",
    "            \n",
    "        \n",
    "        masks_object_attack                    = torch.where(masks_object_attack > 0, 1, 0)\n",
    "        new_image                              = image_to_attack + step*attack_grad*masks_object_attack\n",
    "        image_to_attack                        = new_image  \n",
    "        \n",
    "            \n",
    "                \n",
    "        save_visualize_image(new_image/255, folder_result ,name_img, f'{number_object}_{number_of_steps}')\n",
    "        if count == number_object:\n",
    "            break\n",
    "        path_img           =   f'./img_results/{folder_result}/images_full/val/{name_img[:-4]}_{number_object}_{number_of_steps}.jpg'\n",
    "        \n",
    "        with torch.no_grad():\n",
    "            batch_tensor[:,:,y1:y2,x1:x2] = image_to_attack\n",
    "            \n",
    "        batch_tensor.requires_grad_()\n",
    "        batch_tensor.retain_grad()\n",
    "        b = trainer.model(batch_tensor)\n",
    "\n",
    "        loss, _ = trainer.model.loss(batch=batch, preds=b)\n",
    "        \n",
    "\n",
    "        loss.retain_grad()\n",
    "        loss.backward()\n",
    "        alpha = batch_tensor.grad\n",
    "        image_to_attack = batch_tensor[:,:,y1:y2,x1:x2].cuda()\n",
    "        attack_grad     = alpha[:,:,y1:y2,x1:x2].cuda()\n",
    "    \n",
    "        loss_log_image.append(loss)\n",
    "        \n",
    "        torch.cuda.empty_cache()\n",
    "        gc.collect()\n",
    "    delete_min_object_iter(folder_result, name_img, num_object_min, num_iter_min)\n",
    "    save_loss(loss_log_image, folder_result, name_img)"
   ]
  },
  {
   "cell_type": "markdown",
   "metadata": {},
   "source": [
    "# Convert PASCAL VOC label to YOLO"
   ]
  },
  {
   "cell_type": "code",
   "execution_count": 2,
   "metadata": {},
   "outputs": [
    {
     "name": "stderr",
     "output_type": "stream",
     "text": [
      "train2012: 100%|██████████| 5717/5717 [00:00<00:00, 7146.37it/s]\n",
      "val2012: 100%|██████████| 5823/5823 [00:00<00:00, 6979.88it/s]\n"
     ]
    }
   ],
   "source": [
    "import xml.etree.ElementTree as ET\n",
    "\n",
    "from tqdm import tqdm\n",
    "from pathlib import Path\n",
    "import shutil\n",
    "\n",
    "names_dict = {\n",
    "  0: \"aeroplane\",\n",
    "  1: \"bicycle\",\n",
    "  2: \"bird\",\n",
    "  3: \"boat\",\n",
    "  4: \"bottle\",\n",
    "  5: \"bus\",\n",
    "  6: \"car\",\n",
    "  7: \"cat\",\n",
    "  8: \"chair\",\n",
    "  9: \"cow\",\n",
    "  10: \"diningtable\",\n",
    "  11: \"dog\",\n",
    "  12: \"horse\",\n",
    "  13: \"motorbike\",\n",
    "  14: \"person\",\n",
    "  15: \"pottedplant\",\n",
    "  16: \"sheep\",\n",
    "  17: \"sofa\",\n",
    "  18: \"train\",\n",
    "  19: \"tvmonitor\",\n",
    "}\n",
    "\n",
    "def convert_label(path, lb_path, year, image_id):\n",
    "    def convert_box(size, box):\n",
    "        dw, dh = 1. / size[0], 1. / size[1]\n",
    "        x, y, w, h = (box[0] + box[1]) / 2.0 - 1, (box[2] + box[3]) / 2.0 - 1, box[1] - box[0], box[3] - box[2]\n",
    "        return x * dw, y * dh, w * dw, h * dh\n",
    "\n",
    "    in_file = open(path / f'VOC{year}/Annotations/{image_id}.xml')\n",
    "    out_file = open(lb_path, 'w')\n",
    "    tree = ET.parse(in_file)\n",
    "    root = tree.getroot()\n",
    "    size = root.find('size')\n",
    "    w = int(size.find('width').text)\n",
    "    h = int(size.find('height').text)\n",
    "\n",
    "    names = list(names_dict.values())  # names list\n",
    "    for obj in root.iter('object'):\n",
    "        cls = obj.find('name').text\n",
    "        if cls in names and int(obj.find('difficult').text) != 1:\n",
    "            xmlbox = obj.find('bndbox')\n",
    "            bb = convert_box((w, h), [float(xmlbox.find(x).text) for x in ('xmin', 'xmax', 'ymin', 'ymax')])\n",
    "            cls_id = names.index(cls)  # class id\n",
    "            out_file.write(\" \".join(str(a) for a in (cls_id, *bb)) + '\\n')\n",
    "\n",
    "\n",
    "# # Download\n",
    "# dir = Path(yaml['path'])  # dataset root dir\n",
    "# url = 'https://github.com/ultralytics/yolov5/releases/download/v1.0/'\n",
    "# urls = [f'{url}VOCtrainval_06-Nov-2007.zip',  # 446MB, 5012 images\n",
    "#         f'{url}VOCtest_06-Nov-2007.zip',  # 438MB, 4953 images\n",
    "#         f'{url}VOCtrainval_11-May-2012.zip']  # 1.95GB, 17126 images\n",
    "# download(urls, dir=dir / 'images', curl=True, threads=3)\n",
    "\n",
    "dir = Path(\"../datasets/VOC\")\n",
    "\n",
    "# Convert\n",
    "path = dir / 'images/VOCdevkit'\n",
    "for year, image_set in ('2012', 'train'), ('2012', 'val'):\n",
    "    imgs_path = dir / 'images' / f'{image_set}{year}'\n",
    "    lbs_path = dir / 'labels' / f'{image_set}{year}'\n",
    "    imgs_path.mkdir(exist_ok=True, parents=True)\n",
    "    lbs_path.mkdir(exist_ok=True, parents=True)\n",
    "\n",
    "    with open(path / f'VOC{year}/ImageSets/Main/{image_set}.txt') as f:\n",
    "        image_ids = f.read().strip().split()\n",
    "    # print(len(image_ids))\n",
    "    for id in tqdm(image_ids, desc=f'{image_set}{year}'):\n",
    "        f = path / f'VOC{year}/JPEGImages/{id}.jpg'  # old img path\n",
    "        lb_path = (lbs_path / f.name).with_suffix('.txt')  # new label path\n",
    "        shutil.move(f, imgs_path / f.name)\n",
    "        # f.rename(imgs_path / f.name)  # move image\n",
    "        convert_label(path, lb_path, year, id)  # convert labels to YOLO format"
   ]
  },
  {
   "cell_type": "code",
   "execution_count": null,
   "metadata": {},
   "outputs": [],
   "source": []
  }
 ],
 "metadata": {
  "kernelspec": {
   "display_name": "yolo_attack",
   "language": "python",
   "name": "python3"
  },
  "language_info": {
   "codemirror_mode": {
    "name": "ipython",
    "version": 3
   },
   "file_extension": ".py",
   "mimetype": "text/x-python",
   "name": "python",
   "nbconvert_exporter": "python",
   "pygments_lexer": "ipython3",
   "version": "3.10.13"
  },
  "orig_nbformat": 4
 },
 "nbformat": 4,
 "nbformat_minor": 2
}
